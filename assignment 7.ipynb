{
  "nbformat": 4,
  "nbformat_minor": 0,
  "metadata": {
    "colab": {
      "provenance": [],
      "authorship_tag": "ABX9TyPJyhsuGDPcQwgruH5jLKkN",
      "include_colab_link": true
    },
    "kernelspec": {
      "name": "python3",
      "display_name": "Python 3"
    },
    "language_info": {
      "name": "python"
    }
  },
  "cells": [
    {
      "cell_type": "markdown",
      "metadata": {
        "id": "view-in-github",
        "colab_type": "text"
      },
      "source": [
        "<a href=\"https://colab.research.google.com/github/Dishankjoshi009/ppt1/blob/main/assignment%207.ipynb\" target=\"_parent\"><img src=\"https://colab.research.google.com/assets/colab-badge.svg\" alt=\"Open In Colab\"/></a>"
      ]
    },
    {
      "cell_type": "code",
      "execution_count": null,
      "metadata": {
        "id": "2cTcDo9KnZDa"
      },
      "outputs": [],
      "source": []
    },
    {
      "cell_type": "markdown",
      "source": [
        "<aside>\n",
        "💡 **Question 1**\n",
        "\n",
        "Given two strings s and t, *determine if they are isomorphic*.\n",
        "\n",
        "Two strings s and t are isomorphic if the characters in s can be replaced to get t.\n",
        "\n",
        "All occurrences of a character must be replaced with another character while preserving the order of characters. No two characters may map to the same character, but a character may map to itself.\n",
        "\n",
        "**Example 1:**\n",
        "\n",
        "**Input:** s = \"egg\", t = \"add\"\n",
        "\n",
        "**Output:** true\n",
        "\n",
        "</aside>"
      ],
      "metadata": {
        "id": "Y7QF86MbpfaU"
      }
    },
    {
      "cell_type": "code",
      "source": [
        "def are_isomorphic(s, t):\n",
        "    if len(s) != len(t):\n",
        "        return False\n",
        "\n",
        "    s_to_t_mapping = {}\n",
        "    t_to_s_mapping = {}\n",
        "\n",
        "    for s_char, t_char in zip(s, t):\n",
        "        if s_char not in s_to_t_mapping and t_char not in t_to_s_mapping:\n",
        "            s_to_t_mapping[s_char] = t_char\n",
        "            t_to_s_mapping[t_char] = s_char\n",
        "        elif s_char in s_to_t_mapping and s_to_t_mapping[s_char] != t_char:\n",
        "            return False\n",
        "        elif t_char in t_to_s_mapping and t_to_s_mapping[t_char] != s_char:\n",
        "            return False\n",
        "\n",
        "    return True\n",
        "\n",
        "# Test Example 1\n",
        "s = \"egg\"\n",
        "t = \"add\"\n",
        "print(are_isomorphic(s, t))  # Output: True\n"
      ],
      "metadata": {
        "colab": {
          "base_uri": "https://localhost:8080/"
        },
        "id": "vNIn1AN_phUO",
        "outputId": "31027cd9-5555-4a3b-d15b-22731039da0d"
      },
      "execution_count": 1,
      "outputs": [
        {
          "output_type": "stream",
          "name": "stdout",
          "text": [
            "True\n"
          ]
        }
      ]
    },
    {
      "cell_type": "markdown",
      "source": [
        "<aside>\n",
        "💡 **Question 2**\n",
        "\n",
        "Given a string num which represents an integer, return true *if* num *is a **strobogrammatic number***.\n",
        "\n",
        "A **strobogrammatic number** is a number that looks the same when rotated 180 degrees (looked at upside down).\n",
        "\n",
        "**Example 1:**\n",
        "\n",
        "**Input:** num = \"69\"\n",
        "\n",
        "**Output:**\n",
        "\n",
        "true\n",
        "\n",
        "</aside>"
      ],
      "metadata": {
        "id": "dTQLy_nLpnsr"
      }
    },
    {
      "cell_type": "code",
      "source": [
        "def is_strobogrammatic(num):\n",
        "    left, right = 0, len(num) - 1\n",
        "    valid_pairs = {'00', '11', '69', '88', '96'}\n",
        "\n",
        "    while left <= right:\n",
        "        pair = num[left] + num[right]\n",
        "        if pair not in valid_pairs:\n",
        "            return False\n",
        "        left += 1\n",
        "        right -= 1\n",
        "\n",
        "    return True\n",
        "\n",
        "# Test Example 1\n",
        "num = \"69\"\n",
        "print(is_strobogrammatic(num))  # Output: True\n"
      ],
      "metadata": {
        "colab": {
          "base_uri": "https://localhost:8080/"
        },
        "id": "GhoqZAvfplTC",
        "outputId": "c0a10a9a-70e9-4d8a-8d74-bf596075e336"
      },
      "execution_count": 2,
      "outputs": [
        {
          "output_type": "stream",
          "name": "stdout",
          "text": [
            "True\n"
          ]
        }
      ]
    },
    {
      "cell_type": "markdown",
      "source": [
        "<aside>\n",
        "💡 **Question 3**\n",
        "\n",
        "Given two non-negative integers, num1 and num2 represented as string, return *the sum of* num1 *and* num2 *as a string*.\n",
        "\n",
        "You must solve the problem without using any built-in library for handling large integers (such as BigInteger). You must also not convert the inputs to integers directly.\n",
        "\n",
        "**Example 1:**\n",
        "\n",
        "**Input:** num1 = \"11\", num2 = \"123\"\n",
        "\n",
        "**Output:**\n",
        "\n",
        "\"134\"\n",
        "\n",
        "</aside>\n"
      ],
      "metadata": {
        "id": "AvIW4uSjp8i8"
      }
    },
    {
      "cell_type": "code",
      "source": [
        "def addStrings(num1, num2):\n",
        "    i, j = len(num1) - 1, len(num2) - 1\n",
        "    carry = 0\n",
        "    result = \"\"\n",
        "\n",
        "    while i >= 0 or j >= 0:\n",
        "        digit1 = int(num1[i]) if i >= 0 else 0\n",
        "        digit2 = int(num2[j]) if j >= 0 else 0\n",
        "        current_sum = digit1 + digit2 + carry\n",
        "        carry = current_sum // 10\n",
        "        result = str(current_sum % 10) + result\n",
        "        i -= 1\n",
        "        j -= 1\n",
        "\n",
        "    if carry > 0:\n",
        "        result = str(carry) + result\n",
        "\n",
        "    return result\n",
        "\n",
        "# Test Example 1\n",
        "num1 = \"11\"\n",
        "num2 = \"123\"\n",
        "print(addStrings(num1, num2))  # Output: \"134\"\n"
      ],
      "metadata": {
        "colab": {
          "base_uri": "https://localhost:8080/"
        },
        "id": "ZM3ctAY-p1it",
        "outputId": "8a3acc2e-4b2e-4aa6-b03c-be6feb34bf3b"
      },
      "execution_count": 3,
      "outputs": [
        {
          "output_type": "stream",
          "name": "stdout",
          "text": [
            "134\n"
          ]
        }
      ]
    },
    {
      "cell_type": "markdown",
      "source": [
        "<aside>\n",
        "💡 **Question 4**\n",
        "\n",
        "Given a string s, reverse the order of characters in each word within a sentence while still preserving whitespace and initial word order.\n",
        "\n",
        "**Example 1:**\n",
        "\n",
        "**Input:** s = \"Let's take LeetCode contest\"\n",
        "\n",
        "**Output:** \"s'teL ekat edoCteeL tsetnoc\"\n",
        "\n",
        "</aside>"
      ],
      "metadata": {
        "id": "bUdFCFlhqMJj"
      }
    },
    {
      "cell_type": "code",
      "source": [
        "def reverse_words(s):\n",
        "    # Split the input string into individual words using whitespace as the delimiter\n",
        "    words = s.split()\n",
        "\n",
        "    # Reverse each word in the list\n",
        "    reversed_words = [word[::-1] for word in words]\n",
        "\n",
        "    # Join the reversed words back together with whitespace\n",
        "    result = \" \".join(reversed_words)\n",
        "\n",
        "    return result\n",
        "\n",
        "# Test Example 1\n",
        "s = \"Let's take LeetCode contest\"\n",
        "print(reverse_words(s))  # Output: \"s'teL ekat edoCteeL tsetnoc\"\n"
      ],
      "metadata": {
        "colab": {
          "base_uri": "https://localhost:8080/"
        },
        "id": "oN2fbi4KqE8f",
        "outputId": "0714d0b1-751f-4cf5-8920-7c85fe18fef4"
      },
      "execution_count": 4,
      "outputs": [
        {
          "output_type": "stream",
          "name": "stdout",
          "text": [
            "s'teL ekat edoCteeL tsetnoc\n"
          ]
        }
      ]
    },
    {
      "cell_type": "markdown",
      "source": [
        "<aside>\n",
        "💡 **Question 5**\n",
        "\n",
        "Given a string s and an integer k, reverse the first k characters for every 2k characters counting from the start of the string.\n",
        "\n",
        "If there are fewer than k characters left, reverse all of them. If there are less than 2k but greater than or equal to k characters, then reverse the first k characters and leave the other as original.\n",
        "\n",
        "**Example 1:**\n",
        "\n",
        "**Input:** s = \"abcdefg\", k = 2\n",
        "\n",
        "**Output:**\n",
        "\n",
        "\"bacdfeg\"\n",
        "\n",
        "</aside>"
      ],
      "metadata": {
        "id": "E7pXKRD-qYBs"
      }
    },
    {
      "cell_type": "code",
      "source": [
        "def reverse_str(s, k):\n",
        "    result = \"\"\n",
        "    n = len(s)\n",
        "\n",
        "    for i in range(0, n, 2 * k):\n",
        "        # Reverse the first k characters in the substring and append to the result\n",
        "        result += s[i:i + k][::-1]\n",
        "        # Append the remaining characters as they are\n",
        "        result += s[i + k:i + 2 * k]\n",
        "\n",
        "    return result\n",
        "\n",
        "# Test Example 1\n",
        "s = \"abcdefg\"\n",
        "k = 2\n",
        "print(reverse_str(s, k))  # Output: \"bacdfeg\"\n",
        "\n"
      ],
      "metadata": {
        "colab": {
          "base_uri": "https://localhost:8080/"
        },
        "id": "B42zk12gqRvb",
        "outputId": "88b3d8b5-ac9a-42fa-97b3-d560e89d43ba"
      },
      "execution_count": 5,
      "outputs": [
        {
          "output_type": "stream",
          "name": "stdout",
          "text": [
            "bacdfeg\n"
          ]
        }
      ]
    },
    {
      "cell_type": "markdown",
      "source": [
        "<aside>\n",
        "💡 **Question 6**\n",
        "\n",
        "Given two strings s and goal, return true *if and only if* s *can become* goal *after some number of **shifts** on* s.\n",
        "\n",
        "A **shift** on s consists of moving the leftmost character of s to the rightmost position.\n",
        "\n",
        "- For example, if s = \"abcde\", then it will be \"bcdea\" after one shift.\n",
        "\n",
        "**Example 1:**\n",
        "\n",
        "**Input:** s = \"abcde\", goal = \"cdeab\"\n",
        "\n",
        "**Output:**\n",
        "\n",
        "true\n",
        "\n",
        "</aside>"
      ],
      "metadata": {
        "id": "0x4vr21qqlNS"
      }
    },
    {
      "cell_type": "code",
      "source": [
        "def can_shift_to_goal(s, goal):\n",
        "    doubled_s = s + s\n",
        "    return goal in doubled_s\n",
        "\n",
        "# Test Example 1\n",
        "s = \"abcde\"\n",
        "goal = \"cdeab\"\n",
        "print(can_shift_to_goal(s, goal))  # Output: True\n",
        "\n"
      ],
      "metadata": {
        "colab": {
          "base_uri": "https://localhost:8080/"
        },
        "id": "paATvYhcqsMe",
        "outputId": "31db023e-79b6-4c5f-acd2-b4367978b9ce"
      },
      "execution_count": 7,
      "outputs": [
        {
          "output_type": "stream",
          "name": "stdout",
          "text": [
            "True\n"
          ]
        }
      ]
    },
    {
      "cell_type": "markdown",
      "source": [
        "<aside>\n",
        "💡 **Question 7**\n",
        "\n",
        "Given two strings s and t, return true *if they are equal when both are typed into empty text editors*. '#' means a backspace character.\n",
        "\n",
        "Note that after backspacing an empty text, the text will continue empty.\n",
        "\n",
        "**Example 1:**\n",
        "\n",
        "**Input:** s = \"ab#c\", t = \"ad#c\"\n",
        "\n",
        "**Output:** true\n",
        "\n",
        "**Explanation:**\n",
        "\n",
        "Both s and t become \"ac\".\n",
        "\n",
        "</aside>"
      ],
      "metadata": {
        "id": "7ZpBSKU3q7aa"
      }
    },
    {
      "cell_type": "code",
      "source": [
        "def process_string(s):\n",
        "    stack = []\n",
        "    for ch in s:\n",
        "        if ch != '#':\n",
        "            stack.append(ch)\n",
        "        elif stack:\n",
        "            stack.pop()\n",
        "    return \"\".join(stack)\n",
        "\n",
        "def are_equal_after_typing(s, t):\n",
        "    return process_string(s) == process_string(t)\n",
        "\n",
        "# Test Example 1\n",
        "s = \"ab#c\"\n",
        "t = \"ad#c\"\n",
        "print(are_equal_after_typing(s, t))  # Output: True\n"
      ],
      "metadata": {
        "colab": {
          "base_uri": "https://localhost:8080/"
        },
        "id": "M2WQWlNpqwWY",
        "outputId": "d5d9a482-1e74-4f6d-ce0f-a57d3928f211"
      },
      "execution_count": 8,
      "outputs": [
        {
          "output_type": "stream",
          "name": "stdout",
          "text": [
            "True\n"
          ]
        }
      ]
    },
    {
      "cell_type": "code",
      "source": [],
      "metadata": {
        "id": "Gwo2SgZUq_mE"
      },
      "execution_count": null,
      "outputs": []
    }
  ]
}