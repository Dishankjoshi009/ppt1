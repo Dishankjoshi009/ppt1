{
  "nbformat": 4,
  "nbformat_minor": 0,
  "metadata": {
    "colab": {
      "provenance": [],
      "authorship_tag": "ABX9TyMLwo9zHHtRzYr2XGU0zz5B",
      "include_colab_link": true
    },
    "kernelspec": {
      "name": "python3",
      "display_name": "Python 3"
    },
    "language_info": {
      "name": "python"
    }
  },
  "cells": [
    {
      "cell_type": "markdown",
      "metadata": {
        "id": "view-in-github",
        "colab_type": "text"
      },
      "source": [
        "<a href=\"https://colab.research.google.com/github/Dishankjoshi009/ppt1/blob/main/assigment%202.ipynb\" target=\"_parent\"><img src=\"https://colab.research.google.com/assets/colab-badge.svg\" alt=\"Open In Colab\"/></a>"
      ]
    },
    {
      "cell_type": "code",
      "execution_count": null,
      "metadata": {
        "id": "jGxN_1xF9yql"
      },
      "outputs": [],
      "source": [
        "### assigment 2"
      ]
    },
    {
      "cell_type": "markdown",
      "source": [
        "Question 1\n",
        "Given an integer array nums of 2n integers, group these integers into n pairs (a1, b1), (a2, b2),..., (an, bn) such that the sum of min(ai, bi) for all i is maximized. Return the maximized sum.\n",
        "\n",
        "Example 1:\n",
        "Input: nums = [1,4,3,2]\n",
        "Output: 4"
      ],
      "metadata": {
        "id": "GPXoJH7LFByQ"
      }
    },
    {
      "cell_type": "code",
      "source": [
        "def arrayPairSum(nums):\n",
        "    nums.sort()\n",
        "    max_sum = 0\n",
        "    for i in range(0, len(nums), 2):\n",
        "        max_sum += nums[i]\n",
        "    return max_sum\n",
        "\n",
        "# Test the example\n",
        "nums = [1, 4, 3, 2]\n",
        "output = arrayPairSum(nums)\n",
        "print(output)  # Output: 4"
      ],
      "metadata": {
        "colab": {
          "base_uri": "https://localhost:8080/"
        },
        "id": "6zn5KzUCGlF0",
        "outputId": "4976fb76-d60b-419e-b846-c00e12793170"
      },
      "execution_count": 1,
      "outputs": [
        {
          "output_type": "stream",
          "name": "stdout",
          "text": [
            "4\n"
          ]
        }
      ]
    },
    {
      "cell_type": "code",
      "source": [],
      "metadata": {
        "id": "FytTNSnIJnYm"
      },
      "execution_count": null,
      "outputs": []
    },
    {
      "cell_type": "markdown",
      "source": [
        "Question 2\n",
        "Alice has n candies, where the ith candy is of type candyType[i]. Alice noticed that she started to gain weight, so she visited a doctor.\n",
        "\n",
        "The doctor advised Alice to only eat n / 2 of the candies she has (n is always even). Alice likes her candies very much, and she wants to eat the maximum number of different types of candies while still following the doctor's advice.\n",
        "\n",
        "Given the integer array candyType of length n, return the maximum number of different types of candies she can eat if she only eats n / 2 of them.\n",
        "\n",
        "Example 1:\n",
        "Input: candyType = [1,1,2,2,3,3]\n",
        "Output: 3\n",
        "\n",
        "Explanation: Alice can only eat 6 / 2 = 3 candies. Since there are only 3 types, she can eat one of each type.\n"
      ],
      "metadata": {
        "id": "lOpYiC-RKlSZ"
      }
    },
    {
      "cell_type": "code",
      "source": [
        "def maxCandies(candyType):\n",
        "    n = len(candyType)\n",
        "    max_candies_to_eat = n // 2\n",
        "\n",
        "    unique_candies = len(set(candyType))\n",
        "\n",
        "    return min(max_candies_to_eat, unique_candies)\n",
        "\n",
        "# Test the example\n",
        "candyType = [1, 1, 2, 2, 3, 3]\n",
        "output = maxCandies(candyType)\n",
        "print(output)  # Output: 3"
      ],
      "metadata": {
        "colab": {
          "base_uri": "https://localhost:8080/"
        },
        "id": "uJx7ioGbK-vU",
        "outputId": "6f6e1811-b3ea-4dfd-84f3-cc3c569056bf"
      },
      "execution_count": 3,
      "outputs": [
        {
          "output_type": "stream",
          "name": "stdout",
          "text": [
            "3\n"
          ]
        }
      ]
    },
    {
      "cell_type": "code",
      "source": [],
      "metadata": {
        "id": "nNgiVKo0LEdQ"
      },
      "execution_count": null,
      "outputs": []
    },
    {
      "cell_type": "markdown",
      "source": [
        "Question 3\n",
        "We define a harmonious array as an array where the difference between its maximum value\n",
        "and its minimum value is exactly 1.\n",
        "\n",
        "Given an integer array nums, return the length of its longest harmonious subsequence\n",
        "among all its possible subsequences.\n",
        "\n",
        "A subsequence of an array is a sequence that can be derived from the array by deleting some or no elements without changing the order of the remaining elements.\n",
        "\n",
        "Example 1:\n",
        "Input: nums = [1,3,2,2,5,2,3,7]\n",
        "Output: 5\n",
        "\n",
        "Explanation: The longest harmonious subsequence is [3,2,2,2,3].\n"
      ],
      "metadata": {
        "id": "CtNvHxPoLH6_"
      }
    },
    {
      "cell_type": "code",
      "source": [
        "from collections import Counter\n",
        "\n",
        "def findLHS(nums):\n",
        "    num_count = Counter(nums)\n",
        "    max_length = 0\n",
        "\n",
        "    for num in num_count:\n",
        "        if num + 1 in num_count:\n",
        "            max_length = max(max_length, num_count[num] + num_count[num + 1])\n",
        "\n",
        "    return max_length\n",
        "\n",
        "# Test the example\n",
        "nums = [1, 3, 2, 2, 5, 2, 3, 7]\n",
        "output = findLHS(nums)\n",
        "print(output)  # Output: 5\n",
        "\n"
      ],
      "metadata": {
        "colab": {
          "base_uri": "https://localhost:8080/"
        },
        "id": "Gk8XXCEFLZR3",
        "outputId": "bb2621b6-62be-4c0e-da5e-896ed94d09d4"
      },
      "execution_count": 4,
      "outputs": [
        {
          "output_type": "stream",
          "name": "stdout",
          "text": [
            "5\n"
          ]
        }
      ]
    },
    {
      "cell_type": "markdown",
      "source": [
        "Question 4\n",
        "You have a long flowerbed in which some of the plots are planted, and some are not.\n",
        "However, flowers cannot be planted in adjacent plots.\n",
        "Given an integer array flowerbed containing 0's and 1's, where 0 means empty and 1 means not empty, and an integer n, return true if n new flowers can be planted in the flowerbed without violating the no-adjacent-flowers rule and false otherwise.\n",
        "\n",
        "Example 1:\n",
        "Input: flowerbed = [1,0,0,0,1], n = 1\n",
        "Output: true\n"
      ],
      "metadata": {
        "id": "j0zdAHZnLWmk"
      }
    },
    {
      "cell_type": "code",
      "source": [
        "def canPlaceFlowers(flowerbed, n):\n",
        "    count = 0\n",
        "    i = 0\n",
        "    while i < len(flowerbed):\n",
        "        if flowerbed[i] == 0:\n",
        "            if i == 0 or flowerbed[i - 1] == 0:\n",
        "                if i == len(flowerbed) - 1 or flowerbed[i + 1] == 0:\n",
        "                    flowerbed[i] = 1\n",
        "                    count += 1\n",
        "        i += 1\n",
        "\n",
        "    return count >= n\n",
        "\n",
        "# Test the example\n",
        "flowerbed = [1, 0, 0, 0, 1]\n",
        "n = 1\n",
        "output = canPlaceFlowers(flowerbed, n)\n",
        "print(output)  # Output: True\n"
      ],
      "metadata": {
        "colab": {
          "base_uri": "https://localhost:8080/"
        },
        "id": "6UGt2fmWLvcI",
        "outputId": "4d823669-36ff-4fa8-be0d-ead09892a167"
      },
      "execution_count": 5,
      "outputs": [
        {
          "output_type": "stream",
          "name": "stdout",
          "text": [
            "True\n"
          ]
        }
      ]
    },
    {
      "cell_type": "markdown",
      "source": [
        "Question 5\n",
        "Given an integer array nums, find three numbers whose product is maximum and return the maximum product.\n",
        "\n",
        "Example 1:\n",
        "Input: nums = [1,2,3]\n",
        "Output: 6\n"
      ],
      "metadata": {
        "id": "J3A67zN7Lszw"
      }
    },
    {
      "cell_type": "code",
      "source": [
        "def maximumProduct(nums):\n",
        "    nums.sort()\n",
        "    n = len(nums)\n",
        "\n",
        "    return max(nums[0] * nums[1] * nums[n - 1], nums[n - 1] * nums[n - 2] * nums[n - 3])\n",
        "\n",
        "# Test the example\n",
        "nums = [1, 2, 3]\n",
        "output = maximumProduct(nums)\n",
        "print(output)  # Output: 6\n"
      ],
      "metadata": {
        "colab": {
          "base_uri": "https://localhost:8080/"
        },
        "id": "F29g3LrwMKmK",
        "outputId": "1a2d48d3-7baa-4948-a6f3-a2a56d82c36e"
      },
      "execution_count": 6,
      "outputs": [
        {
          "output_type": "stream",
          "name": "stdout",
          "text": [
            "6\n"
          ]
        }
      ]
    },
    {
      "cell_type": "markdown",
      "source": [
        "Question 6\n",
        "Given an array of integers nums which is sorted in ascending order, and an integer target,\n",
        "write a function to search target in nums. If target exists, then return its index. Otherwise,\n",
        "return -1.\n",
        "\n",
        "You must write an algorithm with O(log n) runtime complexity.\n",
        "\n",
        "Input: nums = [-1,0,3,5,9,12], target = 9\n",
        "Output: 4\n",
        "\n",
        "Explanation: 9 exists in nums and its index is 4"
      ],
      "metadata": {
        "id": "Vlwi0MxnMwJ-"
      }
    },
    {
      "cell_type": "code",
      "source": [
        "def search(nums, target):\n",
        "    left, right = 0, len(nums) - 1\n",
        "\n",
        "    while left <= right:\n",
        "        mid = (left + right) // 2\n",
        "        if nums[mid] == target:\n",
        "            return mid\n",
        "        elif nums[mid] < target:\n",
        "            left = mid + 1\n",
        "        else:\n",
        "            right = mid - 1\n",
        "\n",
        "    return -1\n",
        "\n",
        "# Test the example\n",
        "nums = [-1, 0, 3, 5, 9, 12]\n",
        "target = 9\n",
        "output = search(nums, target)\n",
        "print(output)  # Output: 4\n"
      ],
      "metadata": {
        "colab": {
          "base_uri": "https://localhost:8080/"
        },
        "id": "F7-oEzAUMbZx",
        "outputId": "e1a96ead-c56e-4a99-b02e-f95671a864d6"
      },
      "execution_count": 7,
      "outputs": [
        {
          "output_type": "stream",
          "name": "stdout",
          "text": [
            "4\n"
          ]
        }
      ]
    },
    {
      "cell_type": "markdown",
      "source": [
        "Question 7\n",
        "An array is monotonic if it is either monotone increasing or monotone decreasing.\n",
        "\n",
        "An array nums is monotone increasing if for all i <= j, nums[i] <= nums[j]. An array nums is\n",
        "monotone decreasing if for all i <= j, nums[i] >= nums[j].\n",
        "\n",
        "Given an integer array nums, return true if the given array is monotonic, or false otherwise.\n",
        "\n",
        "Example 1:\n",
        "Input: nums = [1,2,2,3]\n",
        "Output: true\n"
      ],
      "metadata": {
        "id": "vJphuer_M1qn"
      }
    },
    {
      "cell_type": "code",
      "source": [
        "def isMonotonic(nums):\n",
        "    increasing = decreasing = True\n",
        "\n",
        "    for i in range(1, len(nums)):\n",
        "        if nums[i] > nums[i - 1]:\n",
        "            decreasing = False\n",
        "        elif nums[i] < nums[i - 1]:\n",
        "            increasing = False\n",
        "\n",
        "    return increasing or decreasing\n",
        "\n",
        "# Test the example\n",
        "nums = [1, 2, 2, 3]\n",
        "output = isMonotonic(nums)\n",
        "print(output)  # Output: True\n"
      ],
      "metadata": {
        "colab": {
          "base_uri": "https://localhost:8080/"
        },
        "id": "ObTYrwtcNAuU",
        "outputId": "fbf2b892-20ec-4601-8aa2-12356bd94e0c"
      },
      "execution_count": 8,
      "outputs": [
        {
          "output_type": "stream",
          "name": "stdout",
          "text": [
            "True\n"
          ]
        }
      ]
    },
    {
      "cell_type": "markdown",
      "source": [
        "Question 8\n",
        "You are given an integer array nums and an integer k.\n",
        "\n",
        "In one operation, you can choose any index i where 0 <= i < nums.length and change nums[i] to nums[i] + x where x is an integer from the range [-k, k]. You can apply this operation at most once for each index i.\n",
        "\n",
        "The score of nums is the difference between the maximum and minimum elements in nums.\n",
        "\n",
        "Return the minimum score of nums after applying the mentioned operation at most once for each index in it.\n",
        "\n",
        "Example 1:\n",
        "Input: nums = [1], k = 0\n",
        "Output: 0\n",
        "\n",
        "Explanation: The score is max(nums) - min(nums) = 1 - 1 = 0.\n"
      ],
      "metadata": {
        "id": "2dJ6HpkRNQfw"
      }
    },
    {
      "cell_type": "markdown",
      "source": [
        "def minimumScore(nums, k):\n",
        "    nums.sort()\n",
        "    n = len(nums)\n",
        "\n",
        "    min_score = nums[n - 1] - nums[0]\n",
        "\n",
        "    for i in range(n - 1):\n",
        "        min_val = nums[i]\n",
        "        max_val = nums[i + 1]\n",
        "        diff = max(max_val - k - min_val, nums[n - 1] - k - nums[0])\n",
        "        min_score = min(min_score, diff)\n",
        "\n",
        "    return min_score\n",
        "\n",
        "# Test the example\n",
        "nums = [1]\n",
        "k = 0\n",
        "output = minimumScore(nums, k)\n",
        "print(output)  # Output: 0\n"
      ],
      "metadata": {
        "id": "NhCG8_ALNxu6"
      }
    },
    {
      "cell_type": "markdown",
      "source": [
        "def minimumScore(nums, k):\n",
        "    nums.sort()\n",
        "    n = len(nums)\n",
        "\n",
        "    min_score = nums[n - 1] - nums[0]\n",
        "\n",
        "    for i in range(n - 1):\n",
        "        min_val = nums[i]\n",
        "        max_val = nums[i + 1]\n",
        "        diff = max(max_val - k - min_val, nums[n - 1] - k - nums[0])\n",
        "        min_score = min(min_score, diff)\n",
        "\n",
        "    return min_score\n",
        "\n",
        "# Test the example\n",
        "nums = [1]\n",
        "k = 0\n",
        "output = minimumScore(nums, k)\n",
        "print(output)  # Output: 0\n",
        "\n"
      ],
      "metadata": {
        "id": "BGeKM9b-Nrm2"
      }
    },
    {
      "cell_type": "code",
      "source": [],
      "metadata": {
        "id": "0Sq4SixKNjeg"
      },
      "execution_count": null,
      "outputs": []
    },
    {
      "cell_type": "markdown",
      "source": [],
      "metadata": {
        "id": "j77knrWGN4iv"
      }
    }
  ]
}