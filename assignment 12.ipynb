{
  "nbformat": 4,
  "nbformat_minor": 0,
  "metadata": {
    "colab": {
      "provenance": [],
      "authorship_tag": "ABX9TyOd/oQ5hgTPu3CYU4my5hDS",
      "include_colab_link": true
    },
    "kernelspec": {
      "name": "python3",
      "display_name": "Python 3"
    },
    "language_info": {
      "name": "python"
    }
  },
  "cells": [
    {
      "cell_type": "markdown",
      "metadata": {
        "id": "view-in-github",
        "colab_type": "text"
      },
      "source": [
        "<a href=\"https://colab.research.google.com/github/Dishankjoshi009/ppt1/blob/main/assignment%2012.ipynb\" target=\"_parent\"><img src=\"https://colab.research.google.com/assets/colab-badge.svg\" alt=\"Open In Colab\"/></a>"
      ]
    },
    {
      "cell_type": "code",
      "execution_count": null,
      "metadata": {
        "id": "Gz0RcQc3jypB"
      },
      "outputs": [],
      "source": []
    },
    {
      "cell_type": "markdown",
      "source": [
        "<aside>\n",
        "💡 **Question 1**\n",
        "\n",
        "Given a singly linked list, delete **middle** of the linked list. For example, if given linked list is 1->2->**3**->4->5 then linked list should be modified to 1->2->4->5.If there are **even** nodes, then there would be **two middle** nodes, we need to delete the second middle element. For example, if given linked list is 1->2->3->4->5->6 then it should be modified to 1->2->3->5->6.If the input linked list is NULL or has 1 node, then it should return NULL\n",
        "\n",
        "**Example 1:**\n",
        "\n",
        "```\n",
        "Input:\n",
        "LinkedList: 1->2->3->4->5\n",
        "Output:1 2 4 5\n",
        "\n",
        "```\n",
        "\n",
        "**Example 2:**\n",
        "\n",
        "</aside>"
      ],
      "metadata": {
        "id": "rk6FHZGvjzai"
      }
    },
    {
      "cell_type": "code",
      "source": [
        "class ListNode:\n",
        "    def __init__(self, val=0, next=None):\n",
        "        self.val = val\n",
        "        self.next = next\n",
        "\n",
        "def delete_middle_node(head):\n",
        "    # Base case: If the list is empty or has 1 node, return None\n",
        "    if not head or not head.next:\n",
        "        return None\n",
        "\n",
        "    slow = head\n",
        "    fast = head\n",
        "    prev = None\n",
        "\n",
        "    # Traverse the list to find the middle node(s)\n",
        "    while fast and fast.next:\n",
        "        fast = fast.next.next\n",
        "        prev = slow\n",
        "        slow = slow.next\n",
        "\n",
        "    # Delete the middle node(s)\n",
        "    if prev:\n",
        "        prev.next = slow.next\n",
        "    else:\n",
        "        # If there is no prev, it means the list has two middle nodes.\n",
        "        head = slow.next\n",
        "\n",
        "    return head\n",
        "\n",
        "# Helper function to print the linked list\n",
        "def print_linked_list(head):\n",
        "    curr = head\n",
        "    while curr:\n",
        "        print(curr.val, end=\" \")\n",
        "        curr = curr.next\n",
        "    print()\n",
        "\n",
        "# Test Example 1\n",
        "head1 = ListNode(1, ListNode(2, ListNode(3, ListNode(4, ListNode(5)))))\n",
        "print(\"Input:\")\n",
        "print_linked_list(head1)\n",
        "head1 = delete_middle_node(head1)\n",
        "print(\"Output:\")\n",
        "print_linked_list(head1)  # Output: 1 2 4 5\n",
        "\n",
        "# Test Example 2\n",
        "head2 = ListNode(1, ListNode(2, ListNode(3, ListNode(4, ListNode(5, ListNode(6))))))\n",
        "print(\"Input:\")\n",
        "print_linked_list(head2)\n",
        "head2 = delete_middle_node(head2)\n",
        "print(\"Output:\")\n",
        "print_linked_list(head2)  # Output: 1 2 3 5 6\n"
      ],
      "metadata": {
        "colab": {
          "base_uri": "https://localhost:8080/"
        },
        "id": "-ZhxuRf-j1xA",
        "outputId": "ebcfc772-efd1-457f-b1f0-0bdc68119397"
      },
      "execution_count": 1,
      "outputs": [
        {
          "output_type": "stream",
          "name": "stdout",
          "text": [
            "Input:\n",
            "1 2 3 4 5 \n",
            "Output:\n",
            "1 2 4 5 \n",
            "Input:\n",
            "1 2 3 4 5 6 \n",
            "Output:\n",
            "1 2 3 5 6 \n"
          ]
        }
      ]
    },
    {
      "cell_type": "markdown",
      "source": [
        "<aside>\n",
        "💡 **Question 2**\n",
        "\n",
        "Given a linked list of **N** nodes. The task is to check if the linked list has a loop. Linked list can contain self loop.\n",
        "\n",
        "**Example 1:**\n",
        "\n",
        "```\n",
        "Input:\n",
        "N = 3\n",
        "value[] = {1,3,4}\n",
        "x(position at which tail is connected) = 2\n",
        "Output:True\n",
        "Explanation:In above test case N = 3.\n",
        "The linked list with nodes N = 3 is\n",
        "given. Then value of x=2 is given which\n",
        "means last node is connected with xth\n",
        "node of linked list. Therefore, there\n",
        "exists a loop.\n",
        "```\n",
        "\n",
        "**Example 2:**\n",
        "\n",
        "</aside>"
      ],
      "metadata": {
        "id": "u8pRaJNlm7tk"
      }
    },
    {
      "cell_type": "code",
      "source": [
        "class ListNode:\n",
        "    def __init__(self, val=0, next=None):\n",
        "        self.val = val\n",
        "        self.next = next\n",
        "\n",
        "def has_loop(head):\n",
        "    if not head:\n",
        "        return False\n",
        "\n",
        "    slow = head\n",
        "    fast = head.next\n",
        "\n",
        "    while fast and fast.next:\n",
        "        if slow == fast:\n",
        "            return True\n",
        "        slow = slow.next\n",
        "        fast = fast.next.next\n",
        "\n",
        "    return False\n",
        "\n",
        "# Test Example 1\n",
        "node1 = ListNode(1)\n",
        "node2 = ListNode(3)\n",
        "node3 = ListNode(4)\n",
        "node1.next = node2\n",
        "node2.next = node3\n",
        "node3.next = node2\n",
        "print(has_loop(node1))  # Output: True\n",
        "\n",
        "# Test Example 2\n",
        "node4 = ListNode(5)\n",
        "node5 = ListNode(6)\n",
        "node6 = ListNode(7)\n",
        "node4.next = node5\n",
        "node5.next = node6\n",
        "print(has_loop(node4))  # Output: False\n"
      ],
      "metadata": {
        "colab": {
          "base_uri": "https://localhost:8080/"
        },
        "id": "qcbIz9zjj6R9",
        "outputId": "629fad80-4224-4d7b-ba6f-b6c538b1241b"
      },
      "execution_count": 2,
      "outputs": [
        {
          "output_type": "stream",
          "name": "stdout",
          "text": [
            "True\n",
            "False\n"
          ]
        }
      ]
    },
    {
      "cell_type": "markdown",
      "source": [
        "<aside>\n",
        "💡 **Question 3**\n",
        "\n",
        "Given a linked list consisting of **L** nodes and given a number **N**. The task is to find the **N**th node from the end of the linked list.\n",
        "\n",
        "**Example 1:**\n",
        "\n",
        "```\n",
        "Input:\n",
        "N = 2\n",
        "LinkedList: 1->2->3->4->5->6->7->8->9\n",
        "Output:8\n",
        "Explanation:In the first example, there\n",
        "are 9 nodes in linked list and we need\n",
        "to find 2nd node from end. 2nd node\n",
        "from end is 8.\n",
        "\n",
        "```\n",
        "\n",
        "**Example 2:**\n",
        "\n",
        "</aside>"
      ],
      "metadata": {
        "id": "SBIgtfZJoOQr"
      }
    },
    {
      "cell_type": "code",
      "source": [
        "class ListNode:\n",
        "    def __init__(self, val=0, next=None):\n",
        "        self.val = val\n",
        "        self.next = next\n",
        "\n",
        "def find_nth_from_end(head, n):\n",
        "    if not head or n <= 0:\n",
        "        return None\n",
        "\n",
        "    first = head\n",
        "    second = head\n",
        "\n",
        "    # Move the first pointer N nodes ahead\n",
        "    for _ in range(n):\n",
        "        if not first:\n",
        "            return None  # N is greater than the number of nodes in the linked list\n",
        "        first = first.next\n",
        "\n",
        "    # Move both pointers until the first pointer reaches the end\n",
        "    while first:\n",
        "        first = first.next\n",
        "        second = second.next\n",
        "\n",
        "    return second.val\n",
        "\n",
        "# Test Example 1\n",
        "node1 = ListNode(1)\n",
        "node2 = ListNode(2)\n",
        "node3 = ListNode(3)\n",
        "node4 = ListNode(4)\n",
        "node5 = ListNode(5)\n",
        "node6 = ListNode(6)\n",
        "node7 = ListNode(7)\n",
        "node8 = ListNode(8)\n",
        "node9 = ListNode(9)\n",
        "node1.next = node2\n",
        "node2.next = node3\n",
        "node3.next = node4\n",
        "node4.next = node5\n",
        "node5.next = node6\n",
        "node6.next = node7\n",
        "node7.next = node8\n",
        "node8.next = node9\n",
        "print(find_nth_from_end(node1, 2))  # Output: 8\n",
        "\n",
        "# Test Example 2\n",
        "print(find_nth_from_end(node1, 10))  # Output: None (N is greater than the number of nodes)\n"
      ],
      "metadata": {
        "colab": {
          "base_uri": "https://localhost:8080/"
        },
        "id": "vUvPX5SRnUvp",
        "outputId": "743d6852-1cf2-4535-a74c-84661eafbd27"
      },
      "execution_count": 3,
      "outputs": [
        {
          "output_type": "stream",
          "name": "stdout",
          "text": [
            "8\n",
            "None\n"
          ]
        }
      ]
    },
    {
      "cell_type": "markdown",
      "source": [
        "Given a singly linked list of characters, write a function that returns true if the given list is a palindrome, else false.\n",
        "\n",
        "!https://media.geeksforgeeks.org/wp-content/uploads/20220816144425/LLdrawio.png\n",
        "\n",
        "**Examples:**\n",
        "\n",
        "> Input: R->A->D->A->R->NULL\n",
        ">\n",
        ">\n",
        "> **Output:** Yes\n",
        ">\n",
        "> **Input:** C->O->D->E->NULL\n",
        ">\n",
        "> **Output:** No\n",
        ">"
      ],
      "metadata": {
        "id": "2n_pjA_3oeGu"
      }
    },
    {
      "cell_type": "code",
      "source": [
        "class ListNode:\n",
        "    def __init__(self, val=0, next=None):\n",
        "        self.val = val\n",
        "        self.next = next\n",
        "\n",
        "def is_palindrome(head):\n",
        "    if not head or not head.next:\n",
        "        return True\n",
        "\n",
        "    # Step 1: Find the length of the linked list\n",
        "    length = 0\n",
        "    current = head\n",
        "    while current:\n",
        "        length += 1\n",
        "        current = current.next\n",
        "\n",
        "    # Step 2: Initialize pointers\n",
        "    slow = head\n",
        "    fast = head\n",
        "\n",
        "    # Step 3: Move the fast pointer to the middle of the linked list\n",
        "    for _ in range(length // 2):\n",
        "        fast = fast.next\n",
        "\n",
        "    # Step 4: Reverse the second half of the linked list\n",
        "    prev = None\n",
        "    while fast:\n",
        "        next_node = fast.next\n",
        "        fast.next = prev\n",
        "        prev = fast\n",
        "        fast = next_node\n",
        "\n",
        "    # Step 5: Compare elements of the first and reversed second halves\n",
        "    while prev:\n",
        "        if slow.val != prev.val:\n",
        "            return False\n",
        "        slow = slow.next\n",
        "        prev = prev.next\n",
        "\n",
        "    # Step 6: Restore the original linked list by reversing the second half again\n",
        "    prev = None\n",
        "    while head:\n",
        "        next_node = head.next\n",
        "        head.next = prev\n",
        "        prev = head\n",
        "        head = next_node\n",
        "\n",
        "    return True\n",
        "\n",
        "# Test Example 1\n",
        "node1 = ListNode(\"R\")\n",
        "node2 = ListNode(\"A\")\n",
        "node3 = ListNode(\"D\")\n",
        "node4 = ListNode(\"A\")\n",
        "node5 = ListNode(\"R\")\n",
        "node1.next = node2\n",
        "node2.next = node3\n",
        "node3.next = node4\n",
        "node4.next = node5\n",
        "print(is_palindrome(node1))  # Output: True\n",
        "\n",
        "# Test Example 2\n",
        "node1 = ListNode(\"C\")\n",
        "node2 = ListNode(\"O\")\n",
        "node3 = ListNode(\"D\")\n",
        "node4 = ListNode(\"E\")\n",
        "node1.next = node2\n",
        "node2.next = node3\n",
        "node3.next = node4\n",
        "print(is_palindrome(node1))  # Output: False\n"
      ],
      "metadata": {
        "colab": {
          "base_uri": "https://localhost:8080/"
        },
        "id": "_fUYJYRXolL6",
        "outputId": "de5e3f5b-00f7-436e-fed9-a04c4d09ee1c"
      },
      "execution_count": 4,
      "outputs": [
        {
          "output_type": "stream",
          "name": "stdout",
          "text": [
            "True\n",
            "False\n"
          ]
        }
      ]
    },
    {
      "cell_type": "markdown",
      "source": [
        "<aside>\n",
        "💡 **Question 5**\n",
        "\n",
        "Given a linked list of **N** nodes such that it may contain a loop.\n",
        "\n",
        "A loop here means that the last node of the link list is connected to the node at position X(1-based index). If the link list does not have any loop, X=0.\n",
        "\n",
        "Remove the loop from the linked list, if it is present, i.e. unlink the last node which is forming the loop.\n",
        "\n",
        "**Example 1:**\n",
        "\n",
        "```\n",
        "Input:\n",
        "N = 3\n",
        "value[] = {1,3,4}\n",
        "X = 2\n",
        "Output:1\n",
        "Explanation:The link list looks like\n",
        "1 -> 3 -> 4\n",
        "     ^    |\n",
        "     |____|\n",
        "A loop is present. If you remove it\n",
        "successfully, the answer will be 1.\n",
        "\n",
        "```\n",
        "\n",
        "**Example 2:**\n",
        "\n",
        "```\n",
        "Input:\n",
        "N = 4\n",
        "value[] = {1,8,3,4}\n",
        "X = 0\n",
        "Output:1\n",
        "Explanation:The Linked list does not\n",
        "contains any loop.\n",
        "```\n",
        "\n",
        "**Example 3:**\n",
        "\n",
        "</aside>"
      ],
      "metadata": {
        "id": "WXL3Z2Cror5B"
      }
    },
    {
      "cell_type": "code",
      "source": [
        "class ListNode:\n",
        "    def __init__(self, val=0, next=None):\n",
        "        self.val = val\n",
        "        self.next = next\n",
        "\n",
        "def detect_and_remove_loop(head):\n",
        "    if not head or not head.next:\n",
        "        return\n",
        "\n",
        "    # Step 1: Detect the loop using Floyd's cycle detection algorithm\n",
        "    slow = head\n",
        "    fast = head\n",
        "    loop_detected = False\n",
        "\n",
        "    while fast and fast.next:\n",
        "        slow = slow.next\n",
        "        fast = fast.next.next\n",
        "        if slow == fast:\n",
        "            loop_detected = True\n",
        "            break\n",
        "\n",
        "    if not loop_detected:\n",
        "        return\n",
        "\n",
        "    # Step 2: Find the starting point of the loop\n",
        "    slow = head\n",
        "    while slow != fast:\n",
        "        slow = slow.next\n",
        "        fast = fast.next\n",
        "\n",
        "    # Step 3: Remove the loop by setting the next pointer of the loop's starting point to None\n",
        "    while fast.next != slow:\n",
        "        fast = fast.next\n",
        "    fast.next = None\n",
        "\n",
        "# Test Example 1\n",
        "node1 = ListNode(1)\n",
        "node2 = ListNode(3)\n",
        "node3 = ListNode(4)\n",
        "node1.next = node2\n",
        "node2.next = node3\n",
        "node3.next = node2  # Creating a loop\n",
        "\n",
        "detect_and_remove_loop(node1)\n",
        "\n",
        "current = node1\n",
        "while current:\n",
        "    print(current.val, end=\" \")\n",
        "    current = current.next\n",
        "# Output: 1 3 4 (The loop has been removed)\n",
        "\n",
        "print()\n",
        "\n",
        "# Test Example 2\n",
        "node1 = ListNode(1)\n",
        "node2 = ListNode(8)\n",
        "node3 = ListNode(3)\n",
        "node4 = ListNode(4)\n",
        "node1.next = node2\n",
        "node2.next = node3\n",
        "node3.next = node4\n",
        "\n",
        "detect_and_remove_loop(node1)\n",
        "\n",
        "current = node1\n",
        "while current:\n",
        "    print(current.val, end=\" \")\n",
        "    current = current.next\n",
        "# Output: 1 8 3 4 (No loop, the list remains unchanged)\n"
      ],
      "metadata": {
        "colab": {
          "base_uri": "https://localhost:8080/"
        },
        "id": "d94GN7OLopWT",
        "outputId": "7cb6fbd3-90de-4ab6-ac34-a2886cf24960"
      },
      "execution_count": 5,
      "outputs": [
        {
          "output_type": "stream",
          "name": "stdout",
          "text": [
            "1 3 4 \n",
            "1 8 3 4 "
          ]
        }
      ]
    },
    {
      "cell_type": "markdown",
      "source": [
        "<aside>\n",
        "💡 **Question 6**\n",
        "\n",
        "Given a linked list and two integers M and N. Traverse the linked list such that you retain M nodes then delete next N nodes, continue the same till end of the linked list.\n",
        "\n",
        "Difficulty Level: Rookie\n",
        "\n",
        "**Examples**:\n",
        "\n",
        "</aside>"
      ],
      "metadata": {
        "id": "5Ui7kpn_o1vD"
      }
    },
    {
      "cell_type": "code",
      "source": [
        "class ListNode:\n",
        "    def __init__(self, val=0, next=None):\n",
        "        self.val = val\n",
        "        self.next = next\n",
        "\n",
        "def delete_m_n(head, M, N):\n",
        "    if not head:\n",
        "        return head\n",
        "\n",
        "    # Helper function to skip N nodes\n",
        "    def skip_n_nodes(node, n):\n",
        "        while node and n > 0:\n",
        "            node = node.next\n",
        "            n -= 1\n",
        "        return node\n",
        "\n",
        "    dummy = ListNode(0)\n",
        "    dummy.next = head\n",
        "    prev = dummy\n",
        "\n",
        "    while head:\n",
        "        # Retain M nodes\n",
        "        for _ in range(M):\n",
        "            if not head:\n",
        "                break\n",
        "            prev = head\n",
        "            head = head.next\n",
        "\n",
        "        # Delete N nodes\n",
        "        prev.next = skip_n_nodes(head, N)\n",
        "\n",
        "    return dummy.next\n",
        "\n",
        "# Helper function to print the linked list\n",
        "def print_linked_list(head):\n",
        "    while head:\n",
        "        print(head.val, end=\" -> \")\n",
        "        head = head.next\n",
        "    print(\"None\")\n",
        "\n",
        "# Test Example\n",
        "node1 = ListNode(1)\n",
        "node2 = ListNode(2)\n",
        "node3 = ListNode(3)\n",
        "node4 = ListNode(4)\n",
        "node5 = ListNode(5)\n",
        "node6 = ListNode(6)\n",
        "node7 = ListNode(7)\n",
        "node1.next = node2\n",
        "node2.next = node3\n",
        "node3.next = node4\n",
        "node4.next = node5\n",
        "node5.next = node6\n",
        "node6.next = node7\n",
        "\n",
        "print(\"Original Linked List:\")\n",
        "print_linked_list(node1)\n",
        "\n",
        "M = 2\n",
        "N = 1\n",
        "new_head = delete_m_n(node1, M, N)\n",
        "\n",
        "\n"
      ],
      "metadata": {
        "colab": {
          "base_uri": "https://localhost:8080/"
        },
        "id": "36VFJJNro8tx",
        "outputId": "12ff4c28-505e-438e-f817-e65c8778b44b"
      },
      "execution_count": 7,
      "outputs": [
        {
          "output_type": "stream",
          "name": "stdout",
          "text": [
            "Original Linked List:\n",
            "1 -> 2 -> 3 -> 4 -> 5 -> 6 -> 7 -> None\n"
          ]
        }
      ]
    },
    {
      "cell_type": "code",
      "source": [],
      "metadata": {
        "id": "VEoJWR6bpHE0"
      },
      "execution_count": null,
      "outputs": []
    }
  ]
}