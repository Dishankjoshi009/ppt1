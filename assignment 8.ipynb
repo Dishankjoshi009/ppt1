{
  "nbformat": 4,
  "nbformat_minor": 0,
  "metadata": {
    "colab": {
      "provenance": [],
      "authorship_tag": "ABX9TyN7aNfJ97A4ry/ezNVm35CP",
      "include_colab_link": true
    },
    "kernelspec": {
      "name": "python3",
      "display_name": "Python 3"
    },
    "language_info": {
      "name": "python"
    }
  },
  "cells": [
    {
      "cell_type": "markdown",
      "metadata": {
        "id": "view-in-github",
        "colab_type": "text"
      },
      "source": [
        "<a href=\"https://colab.research.google.com/github/Dishankjoshi009/ppt1/blob/main/assignment%208.ipynb\" target=\"_parent\"><img src=\"https://colab.research.google.com/assets/colab-badge.svg\" alt=\"Open In Colab\"/></a>"
      ]
    },
    {
      "cell_type": "code",
      "execution_count": null,
      "metadata": {
        "id": "NguRCm5FreNA"
      },
      "outputs": [],
      "source": [
        "<aside>\n",
        "💡 **Question 1**\n",
        "\n",
        "Given two strings s1 and s2, return *the lowest **ASCII** sum of deleted characters to make two strings equal*.\n",
        "\n",
        "**Example 1:**\n",
        "\n",
        "**Input:** s1 = \"sea\", s2 = \"eat\"\n",
        "\n",
        "**Output:** 231\n",
        "\n",
        "**Explanation:** Deleting \"s\" from \"sea\" adds the ASCII value of \"s\" (115) to the sum.\n",
        "\n",
        "Deleting \"t\" from \"eat\" adds 116 to the sum.\n",
        "\n",
        "At the end, both strings are equal, and 115 + 116 = 231 is the minimum sum possible to achieve this.\n",
        "\n",
        "</aside>"
      ]
    },
    {
      "cell_type": "code",
      "source": [
        "def minimum_ascii_sum(s1, s2):\n",
        "    m, n = len(s1), len(s2)\n",
        "    dp = [[0] * (n + 1) for _ in range(m + 1)]\n",
        "\n",
        "    # Initialize the first row and first column\n",
        "    for i in range(1, m + 1):\n",
        "        dp[i][0] = dp[i - 1][0] + ord(s1[i - 1])\n",
        "\n",
        "    for j in range(1, n + 1):\n",
        "        dp[0][j] = dp[0][j - 1] + ord(s2[j - 1])\n",
        "\n",
        "    for i in range(1, m + 1):\n",
        "        for j in range(1, n + 1):\n",
        "            if s1[i - 1] == s2[j - 1]:\n",
        "                dp[i][j] = dp[i - 1][j - 1]\n",
        "            else:\n",
        "                dp[i][j] = min(dp[i - 1][j] + ord(s1[i - 1]), dp[i][j - 1] + ord(s2[j - 1]))\n",
        "\n",
        "    return dp[m][n]\n",
        "\n",
        "# Test Example 1\n",
        "s1 = \"sea\"\n",
        "s2 = \"eat\"\n",
        "print(minimum_ascii_sum(s1, s2))  # Output: 231\n"
      ],
      "metadata": {
        "colab": {
          "base_uri": "https://localhost:8080/"
        },
        "id": "8BC1y5Aorj51",
        "outputId": "8344b46c-daaa-42c3-98fa-76e9e00775fb"
      },
      "execution_count": 1,
      "outputs": [
        {
          "output_type": "stream",
          "name": "stdout",
          "text": [
            "231\n"
          ]
        }
      ]
    },
    {
      "cell_type": "markdown",
      "source": [
        "<aside>\n",
        "💡 **Question 2**\n",
        "\n",
        "Given a string s containing only three types of characters: '(', ')' and '*', return true *if* s *is **valid***.\n",
        "\n",
        "The following rules define a **valid** string:\n",
        "\n",
        "- Any left parenthesis '(' must have a corresponding right parenthesis ')'.\n",
        "- Any right parenthesis ')' must have a corresponding left parenthesis '('.\n",
        "- Left parenthesis '(' must go before the corresponding right parenthesis ')'.\n",
        "- '*' could be treated as a single right parenthesis ')' or a single left parenthesis '(' or an empty string \"\".\n",
        "\n",
        "**Example 1:**\n",
        "\n",
        "**Input:** s = \"()\"\n",
        "\n",
        "**Output:**\n",
        "\n",
        "true\n",
        "\n",
        "</aside>"
      ],
      "metadata": {
        "id": "NP64rwnBriMR"
      }
    },
    {
      "cell_type": "code",
      "source": [
        "def is_valid(s):\n",
        "    stack = []\n",
        "\n",
        "    for i, ch in enumerate(s):\n",
        "        if ch in ('(', '*'):\n",
        "            stack.append(i)\n",
        "        elif ch == ')':\n",
        "            if stack:\n",
        "                stack.pop()\n",
        "            else:\n",
        "                return False\n",
        "\n",
        "    while stack:\n",
        "        index = stack.pop()\n",
        "        if s[index] == '(':\n",
        "            found_pair = False\n",
        "            for i in range(len(stack) - 1, -1, -1):\n",
        "                if s[stack[i]] == '(':\n",
        "                    found_pair = True\n",
        "                    stack.pop(i)\n",
        "                    break\n",
        "            if not found_pair:\n",
        "                return False\n",
        "\n",
        "    return True\n",
        "\n",
        "# Test Example 1\n",
        "s = \"()\"\n",
        "print(is_valid(s))  # Output: True\n"
      ],
      "metadata": {
        "colab": {
          "base_uri": "https://localhost:8080/"
        },
        "id": "DHU6rU4brtBm",
        "outputId": "f96ffe8c-ba74-4486-a715-9ac9b37b22a3"
      },
      "execution_count": 2,
      "outputs": [
        {
          "output_type": "stream",
          "name": "stdout",
          "text": [
            "True\n"
          ]
        }
      ]
    },
    {
      "cell_type": "markdown",
      "source": [
        "<aside>\n",
        "💡 **Question 3**\n",
        "\n",
        "Given two strings word1 and word2, return *the minimum number of **steps** required to make* word1 *and* word2 *the same*.\n",
        "\n",
        "In one **step**, you can delete exactly one character in either string.\n",
        "\n",
        "**Example 1:**\n",
        "\n",
        "**Input:** word1 = \"sea\", word2 = \"eat\"\n",
        "\n",
        "**Output:** 2\n",
        "\n",
        "**Explanation:** You need one step to make \"sea\" to \"ea\" and another step to make \"eat\" to \"ea\".\n",
        "\n",
        "</aside>"
      ],
      "metadata": {
        "id": "maujS7iUsJDx"
      }
    },
    {
      "cell_type": "code",
      "source": [
        "def min_steps_to_make_same(word1, word2):\n",
        "    m, n = len(word1), len(word2)\n",
        "    dp = [[0] * (n + 1) for _ in range(m + 1)]\n",
        "\n",
        "    # Initialize the first row and first column\n",
        "    for i in range(1, m + 1):\n",
        "        dp[i][0] = i\n",
        "\n",
        "    for j in range(1, n + 1):\n",
        "        dp[0][j] = j\n",
        "\n",
        "    for i in range(1, m + 1):\n",
        "        for j in range(1, n + 1):\n",
        "            if word1[i - 1] == word2[j - 1]:\n",
        "                dp[i][j] = dp[i - 1][j - 1]\n",
        "            else:\n",
        "                dp[i][j] = min(dp[i - 1][j] + 1, dp[i][j - 1] + 1)\n",
        "\n",
        "    return dp[m][n]\n",
        "\n",
        "# Test Example 1\n",
        "word1 = \"sea\"\n",
        "word2 = \"eat\"\n",
        "print(min_steps_to_make_same(word1, word2))  # Output: 2\n"
      ],
      "metadata": {
        "colab": {
          "base_uri": "https://localhost:8080/"
        },
        "id": "ke7CRZQKr4T9",
        "outputId": "64e00125-553f-4085-a65f-af36c3fd21cf"
      },
      "execution_count": 3,
      "outputs": [
        {
          "output_type": "stream",
          "name": "stdout",
          "text": [
            "2\n"
          ]
        }
      ]
    },
    {
      "cell_type": "markdown",
      "source": [
        "<aside>\n",
        "💡 **Question 4**\n",
        "\n",
        "You need to construct a binary tree from a string consisting of parenthesis and integers.\n",
        "\n",
        "The whole input represents a binary tree. It contains an integer followed by zero, one or two pairs of parenthesis. The integer represents the root's value and a pair of parenthesis contains a child binary tree with the same structure.\n",
        "You always start to construct the **left** child node of the parent first if it exists.\n",
        "\n",
        "![Screenshot 2023-05-29 010548.png](https://s3-us-west-2.amazonaws.com/secure.notion-static.com/bdbea2d1-34a4-4c4b-a450-ea6db7410c43/Screenshot_2023-05-29_010548.png)\n",
        "\n",
        "**Input:** s = \"4(2(3)(1))(6(5))\"\n",
        "\n",
        "**Output:** [4,2,6,3,1,5]\n",
        "\n",
        "</aside>"
      ],
      "metadata": {
        "id": "QgPH9ffet543"
      }
    },
    {
      "cell_type": "code",
      "source": [
        "class TreeNode:\n",
        "    def __init__(self, val=0, left=None, right=None):\n",
        "        self.val = val\n",
        "        self.left = left\n",
        "        self.right = right\n",
        "\n",
        "def construct_tree(s):\n",
        "    def parse_subtree(s, start):\n",
        "        if start >= len(s) or s[start] == ')':\n",
        "            return None\n",
        "\n",
        "        # Find the value of the current node\n",
        "        end = start\n",
        "        while end < len(s) and s[end] not in ('(', ')'):\n",
        "            end += 1\n",
        "        val = int(s[start:end])\n",
        "\n",
        "        node = TreeNode(val)\n",
        "        start = end\n",
        "\n",
        "        # Check if there is a left subtree\n",
        "        if start < len(s) and s[start] == '(':\n",
        "            node.left, start = parse_subtree(s, start + 1)\n",
        "\n",
        "        # Check if there is a right subtree\n",
        "        if start < len(s) and s[start] == '(':\n",
        "            node.right, start = parse_subtree(s, start + 1)\n",
        "\n",
        "        return node, start + 1\n",
        "\n",
        "    root, _ = parse_subtree(s, 0)\n",
        "    return root\n",
        "\n",
        "def inorder_traversal(root):\n",
        "    if not root:\n",
        "        return []\n",
        "    return inorder_traversal(root.left) + [root.val] + inorder_traversal(root.right)\n",
        "\n",
        "# Test Example\n",
        "s = \"4(2(3)(1))(6(5))\"\n",
        "root = construct_tree(s)\n",
        "print(inorder_traversal(root))  # Output: [4, 2, 6, 3, 1, 5]\n"
      ],
      "metadata": {
        "colab": {
          "base_uri": "https://localhost:8080/"
        },
        "id": "zlc8QOUEt3-m",
        "outputId": "181e38be-ffa6-452f-d24c-676d581013ca"
      },
      "execution_count": 4,
      "outputs": [
        {
          "output_type": "stream",
          "name": "stdout",
          "text": [
            "[3, 2, 1, 4, 5, 6]\n"
          ]
        }
      ]
    },
    {
      "cell_type": "code",
      "source": [],
      "metadata": {
        "id": "LZ7SnJRKuFFK"
      },
      "execution_count": null,
      "outputs": []
    },
    {
      "cell_type": "markdown",
      "source": [
        "<aside>\n",
        "💡 **Question 5**\n",
        "\n",
        "Given an array of characters chars, compress it using the following algorithm:\n",
        "\n",
        "Begin with an empty string s. For each group of **consecutive repeating characters** in chars:\n",
        "\n",
        "- If the group's length is 1, append the character to s.\n",
        "- Otherwise, append the character followed by the group's length.\n",
        "\n",
        "The compressed string s **should not be returned separately**, but instead, be stored **in the input character array chars**. Note that group lengths that are 10 or longer will be split into multiple characters in chars.\n",
        "\n",
        "After you are done **modifying the input array,** return *the new length of the array*.\n",
        "\n",
        "You must write an algorithm that uses only constant extra space.\n",
        "\n",
        "**Example 1:**\n",
        "\n",
        "**Input:** chars = [\"a\",\"a\",\"b\",\"b\",\"c\",\"c\",\"c\"]\n",
        "\n",
        "**Output:** Return 6, and the first 6 characters of the input array should be: [\"a\",\"2\",\"b\",\"2\",\"c\",\"3\"]\n",
        "\n",
        "**Explanation:**\n",
        "\n",
        "The groups are \"aa\", \"bb\", and \"ccc\". This compresses to \"a2b2c3\".\n",
        "\n",
        "</aside>"
      ],
      "metadata": {
        "id": "x4bvu-CyuHBz"
      }
    },
    {
      "cell_type": "code",
      "source": [
        "def compress(chars):\n",
        "    write = 0\n",
        "    count = 1\n",
        "    prev_char = chars[0]\n",
        "\n",
        "    for i in range(1, len(chars)):\n",
        "        if chars[i] == prev_char:\n",
        "            count += 1\n",
        "        else:\n",
        "            chars[write] = prev_char\n",
        "            write += 1\n",
        "\n",
        "            if count > 1:\n",
        "                count_str = str(count)\n",
        "                for digit in count_str:\n",
        "                    chars[write] = digit\n",
        "                    write += 1\n",
        "\n",
        "            count = 1\n",
        "            prev_char = chars[i]\n",
        "\n",
        "    chars[write] = prev_char\n",
        "    write += 1\n",
        "\n",
        "    if count > 1:\n",
        "        count_str = str(count)\n",
        "        for digit in count_str:\n",
        "            chars[write] = digit\n",
        "            write += 1\n",
        "\n",
        "    return write\n",
        "\n",
        "# Test Example 1\n",
        "chars = [\"a\", \"a\", \"b\", \"b\", \"c\", \"c\", \"c\"]\n",
        "new_length = compress(chars)\n",
        "print(new_length)  # Output: 6\n",
        "print(chars[:new_length])  # Output: [\"a\", \"2\", \"b\", \"2\", \"c\", \"3\"]\n"
      ],
      "metadata": {
        "colab": {
          "base_uri": "https://localhost:8080/"
        },
        "id": "afzH2ZRKuT0p",
        "outputId": "fdbdc8d9-c5db-4747-b7dc-80b645787740"
      },
      "execution_count": 5,
      "outputs": [
        {
          "output_type": "stream",
          "name": "stdout",
          "text": [
            "6\n",
            "['a', '2', 'b', '2', 'c', '3']\n"
          ]
        }
      ]
    },
    {
      "cell_type": "markdown",
      "source": [
        "<aside>\n",
        "💡 **Question 6**\n",
        "\n",
        "Given two strings s and p, return *an array of all the start indices of* p*'s anagrams in* s. You may return the answer in **any order**.\n",
        "\n",
        "An **Anagram** is a word or phrase formed by rearranging the letters of a different word or phrase, typically using all the original letters exactly once.\n",
        "\n",
        "**Example 1:**\n",
        "\n",
        "**Input:** s = \"cbaebabacd\", p = \"abc\"\n",
        "\n",
        "**Output:** [0,6]\n",
        "\n",
        "**Explanation:**\n",
        "\n",
        "The substring with start index = 0 is \"cba\", which is an anagram of \"abc\".\n",
        "\n",
        "The substring with start index = 6 is \"bac\", which is an anagram of \"abc\".\n",
        "\n",
        "</aside>"
      ],
      "metadata": {
        "id": "nrpKhDEguaei"
      }
    },
    {
      "cell_type": "code",
      "source": [
        "def compress(chars):\n",
        "    write = 0\n",
        "    count = 1\n",
        "    prev_char = chars[0]\n",
        "\n",
        "    for i in range(1, len(chars)):\n",
        "        if chars[i] == prev_char:\n",
        "            count += 1\n",
        "        else:\n",
        "            chars[write] = prev_char\n",
        "            write += 1\n",
        "\n",
        "            if count > 1:\n",
        "                count_str = str(count)\n",
        "                for digit in count_str:\n",
        "                    chars[write] = digit\n",
        "                    write += 1\n",
        "\n",
        "            count = 1\n",
        "            prev_char = chars[i]\n",
        "\n",
        "    chars[write] = prev_char\n",
        "    write += 1\n",
        "\n",
        "    if count > 1:\n",
        "        count_str = str(count)\n",
        "        for digit in count_str:\n",
        "            chars[write] = digit\n",
        "            write += 1\n",
        "\n",
        "    return write\n",
        "\n",
        "# Test Example 1\n",
        "chars = [\"a\", \"a\", \"b\", \"b\", \"c\", \"c\", \"c\"]\n",
        "new_length = compress(chars)\n",
        "print(new_length)  # Output: 6\n",
        "print(chars[:new_length])  # Output: [\"a\", \"2\", \"b\", \"2\", \"c\", \"3\"]\n"
      ],
      "metadata": {
        "colab": {
          "base_uri": "https://localhost:8080/"
        },
        "id": "Ga-in7gQuWhf",
        "outputId": "238083cc-ae38-4135-f7b1-0f3ac602b34a"
      },
      "execution_count": 6,
      "outputs": [
        {
          "output_type": "stream",
          "name": "stdout",
          "text": [
            "6\n",
            "['a', '2', 'b', '2', 'c', '3']\n"
          ]
        }
      ]
    },
    {
      "cell_type": "markdown",
      "source": [
        "<aside>\n",
        "💡 **Question 7**\n",
        "\n",
        "Given an encoded string, return its decoded string.\n",
        "\n",
        "The encoding rule is: k[encoded_string], where the encoded_string inside the square brackets is being repeated exactly k times. Note that k is guaranteed to be a positive integer.\n",
        "\n",
        "You may assume that the input string is always valid; there are no extra white spaces, square brackets are well-formed, etc. Furthermore, you may assume that the original data does not contain any digits and that digits are only for those repeat numbers, k. For example, there will not be input like 3a or 2[4].\n",
        "\n",
        "The test cases are generated so that the length of the output will never exceed 105.\n",
        "\n",
        "**Example 1:**\n",
        "\n",
        "**Input:** s = \"3[a]2[bc]\"\n",
        "\n",
        "**Output:** \"aaabcbc\"\n",
        "\n",
        "</aside>\n"
      ],
      "metadata": {
        "id": "uI9Yu6S5ujhd"
      }
    },
    {
      "cell_type": "code",
      "source": [
        "def decode_string(s):\n",
        "    stack = []\n",
        "    num = 0\n",
        "    curr_str = \"\"\n",
        "\n",
        "    for ch in s:\n",
        "        if ch.isdigit():\n",
        "            num = num * 10 + int(ch)\n",
        "        elif ch == '[':\n",
        "            stack.append(curr_str)\n",
        "            stack.append(num)\n",
        "            num = 0\n",
        "            curr_str = \"\"\n",
        "        elif ch == ']':\n",
        "            repeat = stack.pop()\n",
        "            prev_str = stack.pop()\n",
        "            curr_str = prev_str + curr_str * repeat\n",
        "        else:\n",
        "            curr_str += ch\n",
        "\n",
        "    return curr_str\n",
        "\n",
        "# Test Example 1\n",
        "s = \"3[a]2[bc]\"\n",
        "print(decode_string(s))  # Output: \"aaabcbc\"\n"
      ],
      "metadata": {
        "colab": {
          "base_uri": "https://localhost:8080/"
        },
        "id": "hnzObcW8ueF0",
        "outputId": "b43614d8-211f-4642-c4df-cfea78668d6d"
      },
      "execution_count": 7,
      "outputs": [
        {
          "output_type": "stream",
          "name": "stdout",
          "text": [
            "aaabcbc\n"
          ]
        }
      ]
    },
    {
      "cell_type": "markdown",
      "source": [
        "<aside>\n",
        "💡 **Question 8**\n",
        "\n",
        "Given two strings s and goal, return true *if you can swap two letters in* s *so the result is equal to* goal*, otherwise, return* false*.*\n",
        "\n",
        "Swapping letters is defined as taking two indices i and j (0-indexed) such that i != j and swapping the characters at s[i] and s[j].\n",
        "\n",
        "- For example, swapping at indices 0 and 2 in \"abcd\" results in \"cbad\".\n",
        "\n",
        "**Example 1:**\n",
        "\n",
        "**Input:** s = \"ab\", goal = \"ba\"\n",
        "\n",
        "**Output:** true\n",
        "\n",
        "**Explanation:** You can swap s[0] = 'a' and s[1] = 'b' to get \"ba\", which is equal to goal.\n",
        "\n",
        "</aside>"
      ],
      "metadata": {
        "id": "ZyDZTkxwuxQg"
      }
    },
    {
      "cell_type": "code",
      "source": [
        "def can_swap_to_goal(s, goal):\n",
        "    if s == goal:\n",
        "        return True\n",
        "\n",
        "    different_indices = []\n",
        "    for i in range(len(s)):\n",
        "        if s[i] != goal[i]:\n",
        "            different_indices.append(i)\n",
        "\n",
        "    if len(different_indices) != 2:\n",
        "        return False\n",
        "\n",
        "    i, j = different_indices\n",
        "    swapped_s = list(s)\n",
        "    swapped_s[i], swapped_s[j] = swapped_s[j], swapped_s[i]\n",
        "    return ''.join(swapped_s) == goal\n",
        "\n",
        "# Test Example 1\n",
        "s = \"ab\"\n",
        "goal = \"ba\"\n",
        "print(can_swap_to_goal(s, goal))  # Output: True\n"
      ],
      "metadata": {
        "colab": {
          "base_uri": "https://localhost:8080/"
        },
        "id": "m7AgH-m1urJ_",
        "outputId": "4e9abca2-7ed8-475f-ea64-92747289cce1"
      },
      "execution_count": 8,
      "outputs": [
        {
          "output_type": "stream",
          "name": "stdout",
          "text": [
            "True\n"
          ]
        }
      ]
    },
    {
      "cell_type": "code",
      "source": [],
      "metadata": {
        "id": "NRrxt9Wru5IA"
      },
      "execution_count": null,
      "outputs": []
    }
  ]
}