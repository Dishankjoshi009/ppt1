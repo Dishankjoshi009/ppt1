{
  "nbformat": 4,
  "nbformat_minor": 0,
  "metadata": {
    "colab": {
      "provenance": [],
      "authorship_tag": "ABX9TyNlV2ULWz0QzH11aGgtbuRn",
      "include_colab_link": true
    },
    "kernelspec": {
      "name": "python3",
      "display_name": "Python 3"
    },
    "language_info": {
      "name": "python"
    }
  },
  "cells": [
    {
      "cell_type": "markdown",
      "metadata": {
        "id": "view-in-github",
        "colab_type": "text"
      },
      "source": [
        "<a href=\"https://colab.research.google.com/github/Dishankjoshi009/ppt1/blob/main/assignment%2015.ipynb\" target=\"_parent\"><img src=\"https://colab.research.google.com/assets/colab-badge.svg\" alt=\"Open In Colab\"/></a>"
      ]
    },
    {
      "cell_type": "code",
      "execution_count": null,
      "metadata": {
        "id": "XTMbzmP--C36"
      },
      "outputs": [],
      "source": []
    },
    {
      "cell_type": "markdown",
      "source": [
        "<aside>\n",
        "💡 **Question 1**\n",
        "\n",
        "Given an array **arr[ ]** of size **N** having elements, the task is to find the next greater element for each element of the array in order of their appearance in the array.Next greater element of an element in the array is the nearest element on the right which is greater than the current element.If there does not exist next greater of current element, then next greater element for current element is -1. For example, next greater of the last element is always -1.\n",
        "\n",
        "**Example 1:**\n",
        "\n",
        "```\n",
        "Input:\n",
        "N = 4, arr[] = [1 3 2 4]\n",
        "Output:\n",
        "3 4 4 -1\n",
        "Explanation:\n",
        "In the array, the next larger element\n",
        "to 1 is 3 , 3 is 4 , 2 is 4 and for 4 ?\n",
        "since it doesn't exist, it is -1.\n",
        "\n",
        "```\n",
        "\n",
        "**Example 2:**\n",
        "\n",
        "</aside>"
      ],
      "metadata": {
        "id": "VqOVegB4JY45"
      }
    },
    {
      "cell_type": "code",
      "source": [
        "def next_greater_element(arr):\n",
        "    n = len(arr)\n",
        "    result = [-1] * n\n",
        "    stack = []\n",
        "\n",
        "    for i in range(n):\n",
        "        while stack and arr[i] > arr[stack[-1]]:\n",
        "            idx = stack.pop()\n",
        "            result[idx] = arr[i]\n",
        "        stack.append(i)\n",
        "\n",
        "    return result\n",
        "\n",
        "# Example usage:\n",
        "# Assuming you have an array 'arr', you can find the next greater elements as follows:\n",
        "# next_greater = next_greater_element(arr)\n"
      ],
      "metadata": {
        "id": "X3892pukJfQA"
      },
      "execution_count": 9,
      "outputs": []
    },
    {
      "cell_type": "markdown",
      "source": [
        "<aside>\n",
        "💡 **Question 2**\n",
        "\n",
        "Given an array **a** of integers of length **n**, find the nearest smaller number for every element such that the smaller element is on left side.If no small element present on the left print -1.\n",
        "\n",
        "**Example 1:**\n",
        "\n",
        "```\n",
        "Input: n = 3\n",
        "a = {1, 6, 2}\n",
        "Output: -1 1 1\n",
        "Explaination: There is no number at the\n",
        "left of 1. Smaller number than 6 and 2 is 1.\n",
        "```\n",
        "\n",
        "**Example 2:**\n",
        "\n",
        "</aside>"
      ],
      "metadata": {
        "id": "DZtJsbxiJ9_O"
      }
    },
    {
      "cell_type": "code",
      "source": [
        "def nearest_smaller_element(arr):\n",
        "    n = len(arr)\n",
        "    result = [-1] * n\n",
        "    stack = []\n",
        "\n",
        "    for i in range(n):\n",
        "        while stack and arr[i] <= arr[stack[-1]]:\n",
        "            stack.pop()\n",
        "        if stack:\n",
        "            result[i] = arr[stack[-1]]\n",
        "        stack.append(i)\n",
        "\n",
        "    return result\n",
        "\n",
        "# Example usage:\n",
        "# Assuming you have an array 'arr', you can find the nearest smaller elements as follows:\n",
        "# nearest_smaller = nearest_smaller_element(arr)\n"
      ],
      "metadata": {
        "id": "Oa73X3cjJvat"
      },
      "execution_count": 10,
      "outputs": []
    },
    {
      "cell_type": "markdown",
      "source": [
        "<aside>\n",
        "💡 **Question 3**\n",
        "\n",
        "Implement a Stack using two queues **q1** and **q2**.\n",
        "\n",
        "**Example 1:**\n",
        "\n",
        "```\n",
        "Input:\n",
        "push(2)\n",
        "push(3)\n",
        "pop()\n",
        "push(4)\n",
        "pop()\n",
        "Output:3 4\n",
        "Explanation:\n",
        "push(2) the stack will be {2}\n",
        "push(3) the stack will be {2 3}\n",
        "pop()   poped element will be 3 the\n",
        "        stack will be {2}\n",
        "push(4) the stack will be {2 4}\n",
        "pop()   poped element will be 4\n",
        "\n",
        "```\n",
        "\n",
        "**Example 2:**\n",
        "\n",
        "</aside>"
      ],
      "metadata": {
        "id": "WlPo3_1UKQ_2"
      }
    },
    {
      "cell_type": "code",
      "source": [
        "class StackUsingQueues:\n",
        "    def __init__(self):\n",
        "        self.q1 = []\n",
        "        self.q2 = []\n",
        "\n",
        "    def push(self, x):\n",
        "        self.q1.append(x)\n",
        "\n",
        "    def pop(self):\n",
        "        if not self.q1:\n",
        "            return None\n",
        "\n",
        "        while len(self.q1) > 1:\n",
        "            self.q2.append(self.q1.pop(0))\n",
        "\n",
        "        popped_element = self.q1.pop(0)\n",
        "\n",
        "        # Swap the names of q1 and q2 to ensure that next push operation is done on q1\n",
        "        self.q1, self.q2 = self.q2, self.q1\n",
        "\n",
        "        return popped_element\n",
        "\n",
        "# Example usage:\n",
        "# Create a stack object and perform push and pop operations as required:\n",
        "# stack = StackUsingQueues()\n",
        "# stack.push(2)\n",
        "# stack.push(3)\n",
        "# print(stack.pop())  # Output: 3\n",
        "# stack.push(4)\n",
        "# print(stack.pop())  # Output: 4\n"
      ],
      "metadata": {
        "id": "cgMeJ3r4KQMV"
      },
      "execution_count": 11,
      "outputs": []
    },
    {
      "cell_type": "markdown",
      "source": [
        "<aside>\n",
        "💡 **Question 4**\n",
        "\n",
        "You are given a stack **St**. You have to reverse the stack using recursion.\n",
        "\n",
        "**Example 1:**\n",
        "\n",
        "```\n",
        "Input:St = {3,2,1,7,6}\n",
        "Output:{6,7,1,2,3}\n",
        "```\n",
        "\n",
        "**Example 2:**\n",
        "\n",
        "</aside>"
      ],
      "metadata": {
        "id": "BsGcGA80KjnZ"
      }
    },
    {
      "cell_type": "code",
      "source": [
        "def insert_at_bottom(stack, item):\n",
        "    if not stack:\n",
        "        stack.append(item)\n",
        "    else:\n",
        "        temp = stack.pop()\n",
        "        insert_at_bottom(stack, item)\n",
        "        stack.append(temp)\n",
        "\n",
        "def reverse_stack(stack):\n",
        "    if stack:\n",
        "        temp = stack.pop()\n",
        "        reverse_stack(stack)\n",
        "        insert_at_bottom(stack, temp)\n",
        "\n",
        "# Example usage:\n",
        "# Assuming you have a stack 'St', you can reverse it as follows:\n",
        "# reverse_stack(St)\n"
      ],
      "metadata": {
        "id": "9rryMfC3KZWv"
      },
      "execution_count": 12,
      "outputs": []
    },
    {
      "cell_type": "markdown",
      "source": [
        "<aside>\n",
        "💡 **Question 5**\n",
        "\n",
        "You are given a string **S**, the task is to reverse the string using stack.\n",
        "\n",
        "**Example 1:**\n",
        "\n",
        "</aside>"
      ],
      "metadata": {
        "id": "RrTRA5zHKnyJ"
      }
    },
    {
      "cell_type": "code",
      "source": [
        "def reverse_string(s):\n",
        "    stack = []\n",
        "    for char in s:\n",
        "        stack.append(char)\n",
        "\n",
        "    reversed_string = ''\n",
        "    while stack:\n",
        "        reversed_string += stack.pop()\n",
        "\n",
        "    return reversed_string\n",
        "\n",
        "# Example usage:\n",
        "# Assuming you have a string 'S', you can reverse it as follows:\n",
        "# reversed_str = reverse_string(S)\n"
      ],
      "metadata": {
        "id": "95ZO11bhKmri"
      },
      "execution_count": 13,
      "outputs": []
    },
    {
      "cell_type": "markdown",
      "source": [
        "<aside>\n",
        "💡 **Question 6**\n",
        "\n",
        "Given string **S** representing a postfix expression, the task is to evaluate the expression and find the final value. Operators will only include the basic arithmetic operators like ***, /, + and -**.\n",
        "\n",
        "**Example 1:**\n",
        "\n",
        "```\n",
        "Input: S = \"231*+9-\"\n",
        "Output: -4\n",
        "Explanation:\n",
        "After solving the given expression,\n",
        "we have -4 as result.\n",
        "\n",
        "```\n",
        "\n",
        "**Example 2:**\n",
        "\n",
        "</aside>"
      ],
      "metadata": {
        "id": "UPeeGS50K6SN"
      }
    },
    {
      "cell_type": "code",
      "source": [
        "def evaluate_postfix(expression):\n",
        "    stack = []\n",
        "    operators = set(['+', '-', '*', '/'])\n",
        "\n",
        "    for char in expression:\n",
        "        if char not in operators:\n",
        "            # If the character is an operand, convert it to an integer and push it onto the stack\n",
        "            stack.append(int(char))\n",
        "        else:\n",
        "            # If the character is an operator, pop the top two elements from the stack\n",
        "            operand2 = stack.pop()\n",
        "            operand1 = stack.pop()\n",
        "\n",
        "            # Perform the corresponding operation based on the operator and push the result onto the stack\n",
        "            if char == '+':\n",
        "                stack.append(operand1 + operand2)\n",
        "            elif char == '-':\n",
        "                stack.append(operand1 - operand2)\n",
        "            elif char == '*':\n",
        "                stack.append(operand1 * operand2)\n",
        "            elif char == '/':\n",
        "                stack.append(operand1 / operand2)\n",
        "\n",
        "    # The final result will be the top element of the stack\n",
        "    return stack[0]\n",
        "\n",
        "# Example usage:\n",
        "# Assuming you have a postfix expression 'S', you can evaluate it as follows:\n",
        "# result = evaluate_postfix(S)\n"
      ],
      "metadata": {
        "id": "7JPttg7qKzMP"
      },
      "execution_count": 14,
      "outputs": []
    },
    {
      "cell_type": "markdown",
      "source": [
        "<aside>\n",
        "💡 **Question 7**\n",
        "\n",
        "Design a stack that supports push, pop, top, and retrieving the minimum element in constant time.\n",
        "\n",
        "Implement the `MinStack` class:\n",
        "\n",
        "- `MinStack()` initializes the stack object.\n",
        "- `void push(int val)` pushes the element `val` onto the stack.\n",
        "- `void pop()` removes the element on the top of the stack.\n",
        "- `int top()` gets the top element of the stack.\n",
        "- `int getMin()` retrieves the minimum element in the stack.\n",
        "\n",
        "You must implement a solution with `O(1)` time complexity for each function.\n",
        "\n",
        "**Example 1:**\n",
        "\n",
        "</aside>"
      ],
      "metadata": {
        "id": "HJu4pNOiLC5c"
      }
    },
    {
      "cell_type": "code",
      "source": [
        "class MinStack:\n",
        "    def __init__(self):\n",
        "        self.stack = []  # Main stack to store elements\n",
        "        self.min_stack = []  # Stack to store minimum elements\n",
        "\n",
        "    def push(self, val):\n",
        "        self.stack.append(val)\n",
        "        if not self.min_stack or val <= self.min_stack[-1]:\n",
        "            self.min_stack.append(val)\n",
        "\n",
        "    def pop(self):\n",
        "        if self.stack:\n",
        "            popped_element = self.stack.pop()\n",
        "            if popped_element == self.min_stack[-1]:\n",
        "                self.min_stack.pop()\n",
        "            return popped_element\n",
        "\n",
        "    def top(self):\n",
        "        if self.stack:\n",
        "            return self.stack[-1]\n",
        "\n",
        "    def getMin(self):\n",
        "        if self.min_stack:\n",
        "            return self.min_stack[-1]\n",
        "\n",
        "# Example usage:\n",
        "# Create a MinStack object and perform push, pop, top, and getMin operations as required:\n",
        "# min_stack = MinStack()\n",
        "# min_stack.push(2)\n",
        "# min_stack.push(3)\n",
        "# print(min_stack.getMin())  # Output: 2\n",
        "# min_stack.push(1)\n",
        "# print(min_stack.getMin())  # Output: 1\n",
        "# min_stack.pop()\n",
        "# print(min_stack.top())  # Output: 3\n",
        "# print(min_stack.getMin())  # Output: 2\n"
      ],
      "metadata": {
        "id": "AKKk8-geLCFT"
      },
      "execution_count": 15,
      "outputs": []
    },
    {
      "cell_type": "markdown",
      "source": [
        "<aside>\n",
        "💡 **Question 8**\n",
        "\n",
        "Given `n` non-negative integers representing an elevation map where the width of each bar is `1`, compute how much water it can trap after raining.\n",
        "\n",
        "**Example 1:**\n",
        "\n",
        "!https://assets.leetcode.com/uploads/2018/10/22/rainwatertrap.png\n",
        "\n",
        "```\n",
        "Input: height = [0,1,0,2,1,0,1,3,2,1,2,1]\n",
        "Output: 6\n",
        "Explanation: The above elevation map (black section) is represented by array [0,1,0,2,1,0,1,3,2,1,2,1]. In this case, 6 units of rain water (blue section) are being trapped.\n",
        "\n",
        "```\n",
        "\n",
        "**Example 2:**\n",
        "\n",
        "```\n",
        "Input: height = [4,2,0,3,2,5]\n",
        "Output: 9\n",
        "```\n",
        "\n",
        "</aside>"
      ],
      "metadata": {
        "id": "gmds6IV9LPoC"
      }
    },
    {
      "cell_type": "code",
      "source": [
        "def trap(height):\n",
        "    if not height:\n",
        "        return 0\n",
        "\n",
        "    n = len(height)\n",
        "    left, right = 0, n - 1\n",
        "    left_max, right_max = height[left], height[right]\n",
        "    trapped_water = 0\n",
        "\n",
        "    while left < right:\n",
        "        if height[left] < height[right]:\n",
        "            if height[left] > left_max:\n",
        "                left_max = height[left]\n",
        "            else:\n",
        "                trapped_water += left_max - height[left]\n",
        "            left += 1\n",
        "        else:\n",
        "            if height[right] > right_max:\n",
        "                right_max = height[right]\n",
        "            else:\n",
        "                trapped_water += right_max - height[right]\n",
        "            right -= 1\n",
        "\n",
        "    return trapped_water\n",
        "\n",
        "# Example usage:\n",
        "# Assuming you have the elevation map 'height', you can compute the trapped water as follows:\n",
        "# trapped_water = trap(height)\n"
      ],
      "metadata": {
        "id": "yQbJEHviLLl_"
      },
      "execution_count": 16,
      "outputs": []
    },
    {
      "cell_type": "code",
      "source": [],
      "metadata": {
        "id": "X9PXMzDDLWcz"
      },
      "execution_count": null,
      "outputs": []
    }
  ]
}