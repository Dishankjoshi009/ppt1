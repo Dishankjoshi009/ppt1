{
  "nbformat": 4,
  "nbformat_minor": 0,
  "metadata": {
    "colab": {
      "provenance": [],
      "authorship_tag": "ABX9TyPFWPPCHyBcYTm3HtgwCNN4",
      "include_colab_link": true
    },
    "kernelspec": {
      "name": "python3",
      "display_name": "Python 3"
    },
    "language_info": {
      "name": "python"
    }
  },
  "cells": [
    {
      "cell_type": "markdown",
      "metadata": {
        "id": "view-in-github",
        "colab_type": "text"
      },
      "source": [
        "<a href=\"https://colab.research.google.com/github/Dishankjoshi009/ppt1/blob/main/Untitled13.ipynb\" target=\"_parent\"><img src=\"https://colab.research.google.com/assets/colab-badge.svg\" alt=\"Open In Colab\"/></a>"
      ]
    },
    {
      "cell_type": "code",
      "execution_count": null,
      "metadata": {
        "id": "mHidJBT-1bhs"
      },
      "outputs": [],
      "source": []
    },
    {
      "cell_type": "markdown",
      "source": [
        "# Assignment Questions 13\n",
        "\n",
        "<aside>\n",
        "💡 **Question 1**\n",
        "\n",
        "Given two linked list of the same size, the task is to create a new linked list using those linked lists. The condition is that the greater node among both linked list will be added to the new linked list.\n",
        "\n",
        "**Examples:**\n",
        "\n",
        "</aside>"
      ],
      "metadata": {
        "id": "wN0AlInL3RuU"
      }
    },
    {
      "cell_type": "code",
      "source": [
        "class Node:\n",
        "    def __init__(self, data):\n",
        "        self.data = data\n",
        "        self.next = None\n",
        "\n",
        "def merge_linked_lists(list1, list2):\n",
        "    if not list1 or not list2:\n",
        "        return None\n",
        "\n",
        "    dummy_head = Node(None)\n",
        "    current = dummy_head\n",
        "\n",
        "    while list1 and list2:\n",
        "        if list1.data >= list2.data:\n",
        "            current.next = list1\n",
        "            list1 = list1.next\n",
        "        else:\n",
        "            current.next = list2\n",
        "            list2 = list2.next\n",
        "        current = current.next\n",
        "\n",
        "    if list1:\n",
        "        current.next = list1\n",
        "    elif list2:\n",
        "        current.next = list2\n",
        "\n",
        "    return dummy_head.next\n",
        "\n",
        "# Example usage:\n",
        "# Assuming you have two linked lists 'list1' and 'list2', you can merge them as follows:\n",
        "# merged_list = merge_linked_lists(list1, list2)\n"
      ],
      "metadata": {
        "id": "H5GMOjm_33hW"
      },
      "execution_count": 1,
      "outputs": []
    },
    {
      "cell_type": "markdown",
      "source": [
        "<aside>\n",
        "💡 **Question 2**\n",
        "\n",
        "Write a function that takes a list sorted in non-decreasing order and deletes any duplicate nodes from the list. The list should only be traversed once.\n",
        "\n",
        "For example if the linked list is 11->11->11->21->43->43->60 then removeDuplicates() should convert the list to 11->21->43->60.\n",
        "\n",
        "**Example 1:**\n",
        "\n",
        "```\n",
        "Input:\n",
        "LinkedList:\n",
        "11->11->11->21->43->43->60\n",
        "Output:\n",
        "11->21->43->60\n",
        "```\n",
        "\n",
        "**Example 2:**\n",
        "\n",
        "</aside>"
      ],
      "metadata": {
        "id": "T1KNqMhP5Hxs"
      }
    },
    {
      "cell_type": "code",
      "source": [
        "class Node:\n",
        "    def __init__(self, data):\n",
        "        self.data = data\n",
        "        self.next = None\n",
        "\n",
        "def remove_duplicates(head):\n",
        "    if not head:\n",
        "        return None\n",
        "\n",
        "    current = head\n",
        "\n",
        "    while current.next:\n",
        "        if current.data == current.next.data:\n",
        "            current.next = current.next.next\n",
        "        else:\n",
        "            current = current.next\n",
        "\n",
        "    return head\n",
        "\n",
        "# Example usage:\n",
        "# Assuming you have a linked list 'head', you can remove duplicates as follows:\n",
        "# updated_head = remove_duplicates(head)\n"
      ],
      "metadata": {
        "id": "QDLlK0iN4tdT"
      },
      "execution_count": 2,
      "outputs": []
    },
    {
      "cell_type": "markdown",
      "source": [
        "<aside>\n",
        "💡 **Question 3**\n",
        "\n",
        "Given a linked list of size **N**. The task is to reverse every **k** nodes (where k is an input to the function) in the linked list. If the number of nodes is not a multiple of *k* then left-out nodes, in the end, should be considered as a group and must be reversed (See Example 2 for clarification).\n",
        "\n",
        "**Example 1:**\n",
        "\n",
        "```\n",
        "Input:\n",
        "LinkedList: 1->2->2->4->5->6->7->8\n",
        "K = 4\n",
        "Output:4 2 2 1 8 7 6 5\n",
        "Explanation:\n",
        "The first 4 elements 1,2,2,4 are reversed first\n",
        "and then the next 4 elements 5,6,7,8. Hence, the\n",
        "resultant linked list is 4->2->2->1->8->7->6->5.\n",
        "\n",
        "```\n",
        "\n",
        "**Example 2:**\n",
        "\n",
        "</aside>"
      ],
      "metadata": {
        "id": "yRwcFmEF5V8C"
      }
    },
    {
      "cell_type": "markdown",
      "source": [
        "<aside>\n",
        "💡 **Question 4**\n",
        "\n",
        "Given a linked list, write a function to reverse every alternate k nodes (where k is an input to the function) in an efficient way. Give the complexity of your algorithm.\n",
        "\n",
        "**Example:**\n",
        "\n",
        "</aside>"
      ],
      "metadata": {
        "id": "IFAI2clx5fbI"
      }
    },
    {
      "cell_type": "code",
      "source": [
        "class Node:\n",
        "    def __init__(self, data):\n",
        "        self.data = data\n",
        "        self.next = None\n",
        "\n",
        "def reverse_k_nodes(head, k):\n",
        "    def reverse_list(start, end):\n",
        "        prev, curr = None, start\n",
        "        while curr != end:\n",
        "            temp = curr.next\n",
        "            curr.next = prev\n",
        "            prev = curr\n",
        "            curr = temp\n",
        "        return prev\n",
        "\n",
        "    if not head or k <= 1:\n",
        "        return head\n",
        "\n",
        "    dummy = Node(None)\n",
        "    dummy.next = head\n",
        "    prev_group_end, current = dummy, head\n",
        "    count = 0\n",
        "\n",
        "    while current:\n",
        "        count += 1\n",
        "        if count % k == 0:\n",
        "            prev_group_end = reverse_list(prev_group_end.next, current.next)\n",
        "            current = prev_group_end.next\n",
        "        else:\n",
        "            current = current.next\n",
        "\n",
        "    return dummy.next\n",
        "\n",
        "# Example usage:\n",
        "# Assuming you have a linked list 'head' and an integer 'k', you can reverse every k nodes as follows:\n",
        "# updated_head = reverse_k_nodes(head, k)\n"
      ],
      "metadata": {
        "id": "EqmTxybp5wb6"
      },
      "execution_count": 5,
      "outputs": []
    },
    {
      "cell_type": "markdown",
      "source": [
        "<aside>\n",
        "💡 **Question 5**\n",
        "\n",
        "Given a linked list and a key to be deleted. Delete last occurrence of key from linked. The list may have duplicates.\n",
        "\n",
        "**Examples**:\n",
        "\n",
        "</aside>"
      ],
      "metadata": {
        "id": "uiYc_hLA6KpL"
      }
    },
    {
      "cell_type": "code",
      "source": [
        "class Node:\n",
        "    def __init__(self, data):\n",
        "        self.data = data\n",
        "        self.next = None\n",
        "\n",
        "def delete_last_occurrence(head, key):\n",
        "    if not head:\n",
        "        return None\n",
        "\n",
        "    last_occurrence = None\n",
        "    prev, current = None, head\n",
        "\n",
        "    while current:\n",
        "        if current.data == key:\n",
        "            last_occurrence = current\n",
        "        current = current.next\n",
        "\n",
        "    if last_occurrence:\n",
        "        if last_occurrence == head:\n",
        "            head = head.next\n",
        "        else:\n",
        "            prev.next = last_occurrence.next\n",
        "\n",
        "    return head\n",
        "\n",
        "# Example usage:\n",
        "# Assuming you have a linked list 'head' and a key 'key', you can delete the last occurrence of the key as follows:\n",
        "# updated_head = delete_last_occurrence(head, key)\n"
      ],
      "metadata": {
        "id": "1d4i45v55qR7"
      },
      "execution_count": null,
      "outputs": []
    },
    {
      "cell_type": "markdown",
      "source": [
        "<aside>\n",
        "💡 **Question 6**\n",
        "\n",
        "Given two sorted linked lists consisting of **N** and **M** nodes respectively. The task is to merge both of the lists (in place) and return the head of the merged list.\n",
        "\n",
        "**Examples:**\n",
        "\n",
        "Input: a: 5->10->15, b: 2->3->20\n",
        "\n",
        "Output: 2->3->5->10->15->20\n",
        "\n",
        "Input: a: 1->1, b: 2->4\n",
        "\n",
        "Output: 1->1->2->4\n",
        "\n",
        "</aside>"
      ],
      "metadata": {
        "id": "C7epB-ik73UH"
      }
    },
    {
      "cell_type": "markdown",
      "source": [],
      "metadata": {
        "id": "t8uy7N9R74tJ"
      }
    },
    {
      "cell_type": "code",
      "source": [
        "class Node:\n",
        "    def __init__(self, data):\n",
        "        self.data = data\n",
        "        self.next = None\n",
        "\n",
        "def merge_sorted_lists(a, b):\n",
        "    if not a:\n",
        "        return b\n",
        "    if not b:\n",
        "        return a\n",
        "\n",
        "    dummy = Node(None)\n",
        "    current = dummy\n",
        "\n",
        "    while a and b:\n",
        "        if a.data <= b.data:\n",
        "            current.next = a\n",
        "            a = a.next\n",
        "        else:\n",
        "            current.next = b\n",
        "            b = b.next\n",
        "        current = current.next\n",
        "\n",
        "    if a:\n",
        "        current.next = a\n",
        "    elif b:\n",
        "        current.next = b\n",
        "\n",
        "    return dummy.next\n",
        "\n",
        "# Example usage:\n",
        "# Assuming you have two sorted linked lists 'head_a' and 'head_b', you can merge them as follows:\n",
        "# merged_head = merge_sorted_lists(head_a, head_b)\n"
      ],
      "metadata": {
        "id": "TQsIhlce8Jsd"
      },
      "execution_count": 6,
      "outputs": []
    },
    {
      "cell_type": "markdown",
      "source": [
        "<aside>\n",
        "💡 **Question 7**\n",
        "\n",
        "Given a **Doubly Linked List**, the task is to reverse the given Doubly Linked List.\n",
        "\n",
        "**Example:**\n",
        "\n",
        "</aside>"
      ],
      "metadata": {
        "id": "hjBzJ5HJ8URq"
      }
    },
    {
      "cell_type": "code",
      "source": [
        "class Node:\n",
        "    def __init__(self, data):\n",
        "        self.data = data\n",
        "        self.next = None\n",
        "        self.prev = None\n",
        "\n",
        "def reverse_doubly_linked_list(head):\n",
        "    if not head:\n",
        "        return None\n",
        "\n",
        "    current = head\n",
        "    while current:\n",
        "        # Swap 'next' and 'prev' pointers of the current node\n",
        "        current.next, current.prev = current.prev, current.next\n",
        "        # Move to the next node\n",
        "        current = current.prev\n",
        "\n",
        "    # Update the head to the last node, which is now the first node after reversing\n",
        "    head = current.prev\n",
        "\n",
        "    return head\n",
        "\n",
        "# Example usage:\n",
        "# Assuming you have a doubly linked list 'head', you can reverse it as follows:\n",
        "# updated_head = reverse_doubly_linked_list(head)\n"
      ],
      "metadata": {
        "id": "gYBUORPJ8LAx"
      },
      "execution_count": 7,
      "outputs": []
    },
    {
      "cell_type": "markdown",
      "source": [
        "<aside>\n",
        "💡 **Question 8**\n",
        "\n",
        "Given a doubly linked list and a position. The task is to delete a node from given position in a doubly linked list.\n",
        "\n",
        "**Example 1:**\n",
        "\n",
        "```\n",
        "Input:\n",
        "LinkedList = 1 <--> 3 <--> 4\n",
        "x = 3\n",
        "Output:1 3\n",
        "Explanation:After deleting the node at\n",
        "position 3 (position starts from 1),\n",
        "the linked list will be now as 1->3.\n",
        "\n",
        "```\n",
        "\n",
        "**Example 2:**\n",
        "\n",
        "</aside>"
      ],
      "metadata": {
        "id": "Ek8zhWSg8tbI"
      }
    },
    {
      "cell_type": "code",
      "source": [
        "class Node:\n",
        "    def __init__(self, data):\n",
        "        self.data = data\n",
        "        self.next = None\n",
        "        self.prev = None\n",
        "\n",
        "def delete_node_at_position(head, position):\n",
        "    if not head:\n",
        "        return None\n",
        "\n",
        "    # Special case for deleting the head node\n",
        "    if position == 1:\n",
        "        if head.next:\n",
        "            head.next.prev = None\n",
        "        head = head.next\n",
        "        return head\n",
        "\n",
        "    current = head\n",
        "    count = 1\n",
        "\n",
        "    while current and count < position:\n",
        "        current = current.next\n",
        "        count += 1\n",
        "\n",
        "    if not current:\n",
        "        # The position is greater than the length of the list\n",
        "        return head\n",
        "\n",
        "    # Update the pointers of adjacent nodes to remove the current node\n",
        "    if current.next:\n",
        "        current.next.prev = current.prev\n",
        "    if current.prev:\n",
        "        current.prev.next = current.next\n",
        "\n",
        "    return head\n",
        "\n",
        "# Example usage:\n",
        "# Assuming you have a doubly linked list 'head' and an integer 'position', you can delete the node at the given position as follows:\n",
        "# updated_head = delete_node_at_position(head, position)\n"
      ],
      "metadata": {
        "id": "Z-WEOASL8zwD"
      },
      "execution_count": 8,
      "outputs": []
    },
    {
      "cell_type": "code",
      "source": [],
      "metadata": {
        "id": "_rU6RM-O8jSs"
      },
      "execution_count": null,
      "outputs": []
    }
  ]
}