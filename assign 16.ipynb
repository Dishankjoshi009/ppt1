{
  "nbformat": 4,
  "nbformat_minor": 0,
  "metadata": {
    "colab": {
      "provenance": [],
      "authorship_tag": "ABX9TyPzJRvCgcpjdqZBQozJVbTc",
      "include_colab_link": true
    },
    "kernelspec": {
      "name": "python3",
      "display_name": "Python 3"
    },
    "language_info": {
      "name": "python"
    }
  },
  "cells": [
    {
      "cell_type": "markdown",
      "metadata": {
        "id": "view-in-github",
        "colab_type": "text"
      },
      "source": [
        "<a href=\"https://colab.research.google.com/github/Dishankjoshi009/ppt1/blob/main/assign%2016.ipynb\" target=\"_parent\"><img src=\"https://colab.research.google.com/assets/colab-badge.svg\" alt=\"Open In Colab\"/></a>"
      ]
    },
    {
      "cell_type": "code",
      "execution_count": null,
      "metadata": {
        "id": "kOTPn2JmL_bl"
      },
      "outputs": [],
      "source": []
    },
    {
      "cell_type": "markdown",
      "source": [
        "<aside>\n",
        "💡 **Question 1**\n",
        "\n",
        "Given an array, for each element find the value of the nearest element to the right which is having a frequency greater than that of the current element. If there does not exist an answer for a position, then make the value ‘-1’.\n",
        "\n",
        "**Examples:**\n",
        "\n",
        "</aside>"
      ],
      "metadata": {
        "id": "wn6Zmlb1MAKh"
      }
    },
    {
      "cell_type": "code",
      "source": [
        "def nearest_greater_frequency(arr):\n",
        "    frequency = {}\n",
        "    stack = []\n",
        "    result = [-1] * len(arr)\n",
        "\n",
        "    for i in range(len(arr)):\n",
        "        frequency[arr[i]] = frequency.get(arr[i], 0) + 1\n",
        "\n",
        "    for i in range(len(arr) - 1, -1, -1):\n",
        "        while stack and frequency[arr[i]] >= frequency[arr[stack[-1]]]:\n",
        "            stack.pop()\n",
        "\n",
        "        if stack:\n",
        "            result[i] = arr[stack[-1]]\n",
        "\n",
        "        stack.append(i)\n",
        "\n",
        "    return result\n",
        "\n",
        "# Examples:\n",
        "# Assuming you have an array 'arr', you can find the nearest element to the right with a greater frequency as follows:\n",
        "# result = nearest_greater_frequency(arr)\n"
      ],
      "metadata": {
        "id": "CHRdz1gbMB8R"
      },
      "execution_count": 1,
      "outputs": []
    },
    {
      "cell_type": "markdown",
      "source": [
        "<aside>\n",
        "💡 **Question 2**\n",
        "\n",
        "Given a stack of integers, sort it in ascending order using another temporary stack.\n",
        "\n",
        "**Examples:**\n",
        "\n",
        "</aside>"
      ],
      "metadata": {
        "id": "g7JorWgoYdOV"
      }
    },
    {
      "cell_type": "code",
      "source": [
        "def sort_stack(stack):\n",
        "    temp_stack = []\n",
        "\n",
        "    while stack:\n",
        "        temp = stack.pop()\n",
        "\n",
        "        while temp_stack and temp_stack[-1] > temp:\n",
        "            stack.append(temp_stack.pop())\n",
        "\n",
        "        temp_stack.append(temp)\n",
        "\n",
        "    # Copy the sorted elements from the temporary stack back to the original stack\n",
        "    while temp_stack:\n",
        "        stack.append(temp_stack.pop())\n",
        "\n",
        "# Example usage:\n",
        "# Assuming you have a stack 'St', you can sort it in ascending order as follows:\n",
        "# sort_stack(St)\n"
      ],
      "metadata": {
        "id": "yvLwZRLsNm5x"
      },
      "execution_count": 2,
      "outputs": []
    },
    {
      "cell_type": "markdown",
      "source": [
        "<aside>\n",
        "💡 **Question 3**\n",
        "\n",
        "Given a stack with **push()**, **pop()**, and **empty()** operations, The task is to delete the **middle** element ****of it without using any additional data structure.\n",
        "\n",
        "Input  : Stack[] = [1, 2, 3, 4, 5]\n",
        "\n",
        "Output : Stack[] = [1, 2, 4, 5]\n",
        "\n",
        "Input  : Stack[] = [1, 2, 3, 4, 5, 6]\n",
        "\n",
        "Output : Stack[] = [1, 2, 4, 5, 6]\n",
        "\n",
        "</aside>"
      ],
      "metadata": {
        "id": "lU6PoYDEeNtU"
      }
    },
    {
      "cell_type": "code",
      "source": [
        "def delete_middle(stack, k):\n",
        "    if k == 1:\n",
        "        stack.pop()\n",
        "        return\n",
        "\n",
        "    temp = stack.pop()\n",
        "    delete_middle(stack, k - 1)\n",
        "    stack.append(temp)\n",
        "\n",
        "def delete_middle_element(stack):\n",
        "    if not stack:\n",
        "        return\n",
        "\n",
        "    k = (len(stack) // 2) + 1\n",
        "    delete_middle(stack, k)\n",
        "\n",
        "# Example usage:\n",
        "# Assuming you have a stack 'St', you can delete the middle element as follows:\n",
        "# delete_middle_element(St)\n"
      ],
      "metadata": {
        "id": "L2t2qZ0_Ygyk"
      },
      "execution_count": 3,
      "outputs": []
    },
    {
      "cell_type": "markdown",
      "source": [
        "<aside>\n",
        "💡 **Question 4**\n",
        "\n",
        "Given a Queue consisting of first **n** natural numbers (in random order). The task is to check whether the given Queue elements can be arranged in increasing order in another Queue using a stack. The operation allowed are:\n",
        "\n",
        "1. Push and pop elements from the stack\n",
        "2. Pop (Or Dequeue) from the given Queue.\n",
        "3. Push (Or Enqueue) in the another Queue.\n",
        "\n",
        "**Examples :**\n",
        "\n",
        "Input : Queue[] = { 5, 1, 2, 3, 4 }\n",
        "\n",
        "Output : Yes\n",
        "\n",
        "Pop the first element of the given Queue\n",
        "\n",
        "i.e 5. Push 5 into the stack.\n",
        "\n",
        "Now, pop all the elements of the given Queue and push them to second Queue.\n",
        "\n",
        "Now, pop element 5 in the stack and push it to the second Queue.\n",
        "\n",
        "Input : Queue[] = { 5, 1, 2, 6, 3, 4 }\n",
        "\n",
        "Output : No\n",
        "\n",
        "Push 5 to stack.\n",
        "\n",
        "Pop 1, 2 from given Queue and push it to another Queue.\n",
        "\n",
        "Pop 6 from given Queue and push to stack.\n",
        "\n",
        "Pop 3, 4 from given Queue and push to second Queue.\n",
        "\n",
        "Now, from using any of above operation, we cannot push 5 into the second Queue because it is below the 6 in the stack.\n",
        "\n",
        "</aside>"
      ],
      "metadata": {
        "id": "OmYGnjpHhEeN"
      }
    },
    {
      "cell_type": "code",
      "source": [
        "def check_arrangement_possible(queue):\n",
        "    stack = []\n",
        "    second_queue = []\n",
        "\n",
        "    while queue:\n",
        "        current_element = queue.pop(0)\n",
        "        if not stack or current_element > stack[-1]:\n",
        "            stack.append(current_element)\n",
        "        else:\n",
        "            while stack and current_element <= stack[-1]:\n",
        "                second_queue.append(stack.pop())\n",
        "            stack.append(current_element)\n",
        "\n",
        "    while stack:\n",
        "        second_queue.append(stack.pop())\n",
        "\n",
        "    # Check if the second queue is sorted in increasing order\n",
        "    for i in range(1, len(second_queue)):\n",
        "        if second_queue[i] < second_queue[i - 1]:\n",
        "            return False\n",
        "\n",
        "    return True\n",
        "\n",
        "# Examples:\n",
        "# Assuming you have a queue 'Queue', you can check if the arrangement is possible as follows:\n",
        "# result = check_arrangement_possible(Queue)\n"
      ],
      "metadata": {
        "id": "qu0HbX_2eRbK"
      },
      "execution_count": 4,
      "outputs": []
    },
    {
      "cell_type": "markdown",
      "source": [
        "<aside>\n",
        "💡 **Question 5**\n",
        "\n",
        "Given a number , write a program to reverse this number using stack.\n",
        "\n",
        "**Examples:**\n",
        "\n",
        "</aside>"
      ],
      "metadata": {
        "id": "lmGLrWc-hPme"
      }
    },
    {
      "cell_type": "code",
      "source": [
        "def reverse_number(num):\n",
        "    num_str = str(num)\n",
        "    stack = []\n",
        "\n",
        "    # Push each digit onto the stack\n",
        "    for digit in num_str:\n",
        "        stack.append(digit)\n",
        "\n",
        "    reversed_num = \"\"\n",
        "\n",
        "    # Pop the digits from the stack and concatenate them to form the reversed number\n",
        "    while stack:\n",
        "        reversed_num += stack.pop()\n",
        "\n",
        "    return int(reversed_num)\n",
        "\n",
        "# Examples:\n",
        "# Assuming you have a number 'num', you can reverse it as follows:\n",
        "# reversed_num = reverse_number(num)\n"
      ],
      "metadata": {
        "id": "sXTzQmmdhJF4"
      },
      "execution_count": 5,
      "outputs": []
    },
    {
      "cell_type": "markdown",
      "source": [
        "<aside>\n",
        "💡 **Question 6**\n",
        "\n",
        "Given an integer k and a **[queue](https://www.geeksforgeeks.org/queue-data-structure/)** of integers, The task is to reverse the order of the first **k** elements of the queue, leaving the other elements in the same relative order.\n",
        "\n",
        "Only following standard operations are allowed on queue.\n",
        "\n",
        "- **enqueue(x) :** Add an item x to rear of queue\n",
        "- **dequeue() :** Remove an item from front of queue\n",
        "- **size() :** Returns number of elements in queue.\n",
        "- **front() :** Finds front item.\n",
        "</aside>"
      ],
      "metadata": {
        "id": "eWr0NW0plIFT"
      }
    },
    {
      "cell_type": "code",
      "source": [
        "from queue import Queue\n",
        "\n",
        "def reverse_k_elements(queue, k):\n",
        "    if k <= 0 or k > queue.qsize():\n",
        "        return\n",
        "\n",
        "    stack = []\n",
        "\n",
        "    # Push the first k elements into the stack\n",
        "    for i in range(k):\n",
        "        stack.append(queue.get())\n",
        "\n",
        "    # Enqueue the elements back into the queue in reversed order\n",
        "    while stack:\n",
        "        queue.put(stack.pop())\n",
        "\n",
        "    # Enqueue the remaining elements back into the queue\n",
        "    for i in range(queue.qsize() - k):\n",
        "        queue.put(queue.get())\n",
        "\n",
        "# Example usage:\n",
        "# Assuming you have a queue 'q' and an integer 'k', you can reverse the first k elements as follows:\n",
        "# reverse_k_elements(q, k)\n"
      ],
      "metadata": {
        "id": "JX96ADtIiiDh"
      },
      "execution_count": 7,
      "outputs": []
    },
    {
      "cell_type": "markdown",
      "source": [
        "<aside>\n",
        "💡 **Question 7**\n",
        "\n",
        "Given a sequence of n strings, the task is to check if any two similar words come together and then destroy each other then print the number of words left in the sequence after this pairwise destruction.\n",
        "\n",
        "**Examples:**\n",
        "\n",
        "Input : ab aa aa bcd ab\n",
        "\n",
        "Output : 3\n",
        "\n",
        "*As aa, aa destroys each other so,*\n",
        "\n",
        "*ab bcd ab is the new sequence.*\n",
        "\n",
        "Input :  tom jerry jerry tom\n",
        "\n",
        "Output : 0\n",
        "\n",
        "*As first both jerry will destroy each other.*\n",
        "\n",
        "*Then sequence will be tom, tom they will also destroy*\n",
        "\n",
        "*each other. So, the final sequence doesn’t contain any*\n",
        "\n",
        "*word.*\n",
        "\n",
        "</aside>"
      ],
      "metadata": {
        "id": "Tu_jQDBTlR7Z"
      }
    },
    {
      "cell_type": "code",
      "source": [
        "def check_pairwise_destruction(sequence):\n",
        "    stack = []\n",
        "\n",
        "    for word in sequence:\n",
        "        if stack and word == stack[-1]:\n",
        "            stack.pop()\n",
        "        else:\n",
        "            stack.append(word)\n",
        "\n",
        "    return len(stack)\n",
        "\n",
        "# Example usage:\n",
        "# Assuming you have a list 'sequence' containing the words, you can check the number of words left after pairwise destruction as follows:\n",
        "# result = check_pairwise_destruction(sequence)\n"
      ],
      "metadata": {
        "id": "XsZWyyj9lL2g"
      },
      "execution_count": 8,
      "outputs": []
    },
    {
      "cell_type": "markdown",
      "source": [
        "<aside>\n",
        "💡 **Question 8**\n",
        "\n",
        "Given an array of integers, the task is to find the maximum absolute difference between the nearest left and the right smaller element of every element in the array.\n",
        "\n",
        "**Note:** If there is no smaller element on right side or left side of any element then we take zero as the smaller element. For example for the leftmost element, the nearest smaller element on the left side is considered as 0. Similarly, for rightmost elements, the smaller element on the right side is considered as 0.\n",
        "\n",
        "**Examples:**\n",
        "\n",
        "```\n",
        "Input : arr[] = {2, 1, 8}\n",
        "Output : 1\n",
        "Left smaller  LS[] {0, 0, 1}\n",
        "Right smaller RS[] {1, 0, 0}\n",
        "Maximum Diff of abs(LS[i] - RS[i]) = 1\n",
        "\n",
        "Input  : arr[] = {2, 4, 8, 7, 7, 9, 3}\n",
        "Output : 4\n",
        "Left smaller   LS[] = {0, 2, 4, 4, 4, 7, 2}\n",
        "Right smaller  RS[] = {0, 3, 7, 3, 3, 3, 0}\n",
        "Maximum Diff of abs(LS[i] - RS[i]) = 7 - 3 = 4\n",
        "\n",
        "Input : arr[] = {5, 1, 9, 2, 5, 1, 7}\n",
        "Output : 1\n",
        "```\n",
        "\n",
        "</aside>"
      ],
      "metadata": {
        "id": "UAjLy6AimnNS"
      }
    },
    {
      "cell_type": "code",
      "source": [
        "def find_nearest_smaller_elements(arr):\n",
        "    n = len(arr)\n",
        "    left_smaller = [0] * n\n",
        "    right_smaller = [0] * n\n",
        "\n",
        "    # Stack to store the indices of elements\n",
        "    left_stack = []\n",
        "    right_stack = []\n",
        "\n",
        "    # Finding the nearest smaller element on the left side for each element\n",
        "    for i in range(n):\n",
        "        while left_stack and arr[i] <= arr[left_stack[-1]]:\n",
        "            left_stack.pop()\n",
        "        left_smaller[i] = arr[left_stack[-1]] if left_stack else 0\n",
        "        left_stack.append(i)\n",
        "\n",
        "    # Finding the nearest smaller element on the right side for each element\n",
        "    for i in range(n - 1, -1, -1):\n",
        "        while right_stack and arr[i] <= arr[right_stack[-1]]:\n",
        "            right_stack.pop()\n",
        "        right_smaller[i] = arr[right_stack[-1]] if right_stack else 0\n",
        "        right_stack.append(i)\n",
        "\n",
        "    max_abs_diff = 0\n",
        "\n",
        "    # Finding the maximum absolute difference between left_smaller and right_smaller for each element\n",
        "    for i in range(n):\n",
        "        max_abs_diff = max(max_abs_diff, abs(left_smaller[i] - right_smaller[i]))\n",
        "\n",
        "    return max_abs_diff\n",
        "\n",
        "# Examples:\n",
        "# Assuming you have an array 'arr', you can find the maximum absolute difference as follows:\n",
        "# max_abs_diff = find_nearest_smaller_elements(arr)\n"
      ],
      "metadata": {
        "id": "V4ZWddNwlVtL"
      },
      "execution_count": 9,
      "outputs": []
    },
    {
      "cell_type": "code",
      "source": [],
      "metadata": {
        "id": "0ALexFhamrOa"
      },
      "execution_count": null,
      "outputs": []
    }
  ]
}