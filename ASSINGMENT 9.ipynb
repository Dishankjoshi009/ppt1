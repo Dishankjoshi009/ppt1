{
  "nbformat": 4,
  "nbformat_minor": 0,
  "metadata": {
    "colab": {
      "provenance": [],
      "authorship_tag": "ABX9TyOZowxEUZScWGA2jmtKaXAw",
      "include_colab_link": true
    },
    "kernelspec": {
      "name": "python3",
      "display_name": "Python 3"
    },
    "language_info": {
      "name": "python"
    }
  },
  "cells": [
    {
      "cell_type": "markdown",
      "metadata": {
        "id": "view-in-github",
        "colab_type": "text"
      },
      "source": [
        "<a href=\"https://colab.research.google.com/github/Dishankjoshi009/ppt1/blob/main/ASSINGMENT%209.ipynb\" target=\"_parent\"><img src=\"https://colab.research.google.com/assets/colab-badge.svg\" alt=\"Open In Colab\"/></a>"
      ]
    },
    {
      "cell_type": "code",
      "execution_count": null,
      "metadata": {
        "id": "jERjSpXcOdo_"
      },
      "outputs": [],
      "source": [
        "Given an integer `n`, return *`true` if it is a power of two. Otherwise, return `false`*.\n",
        "\n",
        "An integer `n` is a power of two, if there exists an integer `x` such that `n == 2x`.\n",
        "\n",
        "**Example 1:**\n",
        "Input: n = 1\n",
        "\n",
        "Output: true\n",
        "\n",
        "**Example 2:**\n",
        "Input: n = 16\n",
        "\n",
        "Output: true\n",
        "\n",
        "**Example 3:**\n",
        "Input: n = 3\n",
        "\n",
        "Output: false"
      ]
    },
    {
      "cell_type": "code",
      "source": [
        "def is_power_of_two(n):\n",
        "    if n <= 0:\n",
        "        return False\n",
        "    return n & (n - 1) == 0\n",
        "\n",
        "# Test Example 1\n",
        "print(is_power_of_two(1))  # Output: True\n",
        "\n",
        "# Test Example 2\n",
        "print(is_power_of_two(16))  # Output: True\n",
        "\n",
        "# Test Example 3\n",
        "print(is_power_of_two(3))  # Output: False\n"
      ],
      "metadata": {
        "colab": {
          "base_uri": "https://localhost:8080/"
        },
        "id": "vfK_hnsZQI_W",
        "outputId": "99a80057-d9fc-46c5-8b14-29d033c40c26"
      },
      "execution_count": 1,
      "outputs": [
        {
          "output_type": "stream",
          "name": "stdout",
          "text": [
            "True\n",
            "True\n",
            "False\n"
          ]
        }
      ]
    },
    {
      "cell_type": "markdown",
      "source": [
        "<aside>\n",
        "💡 **Question 2**\n",
        "\n",
        "Given a number n, find the sum of the first natural numbers.\n",
        "\n",
        "**Example 1:**\n",
        "\n",
        "Input: n = 3\n",
        "\n",
        "Output: 6\n",
        "\n",
        "**Example 2:**\n",
        "\n",
        "Input  : 5\n",
        "\n",
        "Output : 15\n",
        "\n",
        "</aside>"
      ],
      "metadata": {
        "id": "4lXV7P_IQIXM"
      }
    },
    {
      "cell_type": "code",
      "source": [
        "def sum_of_first_natural_numbers(n):\n",
        "    return (n * (n + 1)) // 2\n",
        "\n",
        "# Test Example 1\n",
        "print(sum_of_first_natural_numbers(3))  # Output: 6\n",
        "\n",
        "# Test Example 2\n",
        "print(sum_of_first_natural_numbers(5))  # Output: 15\n"
      ],
      "metadata": {
        "colab": {
          "base_uri": "https://localhost:8080/"
        },
        "id": "8OyPWFjYRzFH",
        "outputId": "d07c6cb3-a078-450b-f63f-fbf419c88e8d"
      },
      "execution_count": 2,
      "outputs": [
        {
          "output_type": "stream",
          "name": "stdout",
          "text": [
            "6\n",
            "15\n"
          ]
        }
      ]
    },
    {
      "cell_type": "markdown",
      "source": [
        "<aside>\n",
        "💡 **Question 3**\n",
        "\n",
        "****Given a positive integer, N. Find the factorial of N.\n",
        "\n",
        "**Example 1:**\n",
        "\n",
        "Input: N = 5\n",
        "\n",
        "Output: 120\n",
        "\n",
        "**Example 2:**\n",
        "\n",
        "Input: N = 4\n",
        "\n",
        "Output: 24\n",
        "\n",
        "</aside>"
      ],
      "metadata": {
        "id": "GNNSrSD4OfuB"
      }
    },
    {
      "cell_type": "code",
      "source": [
        "def factorial(N):\n",
        "    factorial = 1\n",
        "\n",
        "    for i in range(1, N + 1):\n",
        "        factorial *= i\n",
        "\n",
        "    return factorial\n",
        "\n",
        "# Test Example 1\n",
        "print(factorial(5))  # Output: 120\n",
        "\n",
        "# Test Example 2\n",
        "print(factorial(4))  # Output: 24\n"
      ],
      "metadata": {
        "colab": {
          "base_uri": "https://localhost:8080/"
        },
        "id": "lpFzfbgNY8CM",
        "outputId": "e0e2a691-b36b-4f7e-b929-0710f106cc17"
      },
      "execution_count": 3,
      "outputs": [
        {
          "output_type": "stream",
          "name": "stdout",
          "text": [
            "120\n",
            "24\n"
          ]
        }
      ]
    },
    {
      "cell_type": "markdown",
      "source": [
        "<aside>\n",
        "💡 **Question 4**\n",
        "\n",
        "Given a number N and a power P, the task is to find the exponent of this number raised to the given power, i.e. N^P.\n",
        "\n",
        "**Example 1 :**\n",
        "\n",
        "Input: N = 5, P = 2\n",
        "\n",
        "Output: 25\n",
        "\n",
        "**Example 2 :**\n",
        "Input: N = 2, P = 5\n",
        "\n",
        "Output: 32\n",
        "\n",
        "</aside>"
      ],
      "metadata": {
        "id": "HJ4zXAj2Y-4s"
      }
    },
    {
      "cell_type": "code",
      "source": [
        "def find_exponent(N, P):\n",
        "    return pow(N, P)\n",
        "\n",
        "# Test Example 1\n",
        "print(find_exponent(5, 2))  # Output: 25\n",
        "\n",
        "# Test Example 2\n",
        "print(find_exponent(2, 5))  # Output: 32\n"
      ],
      "metadata": {
        "colab": {
          "base_uri": "https://localhost:8080/"
        },
        "id": "BJlQ9JvoY889",
        "outputId": "89cf53ba-4e73-4de5-9f3e-8831c734f5e2"
      },
      "execution_count": 4,
      "outputs": [
        {
          "output_type": "stream",
          "name": "stdout",
          "text": [
            "25\n",
            "32\n"
          ]
        }
      ]
    },
    {
      "cell_type": "code",
      "source": [],
      "metadata": {
        "id": "HhW3vCf5ZIiy"
      },
      "execution_count": null,
      "outputs": []
    },
    {
      "cell_type": "markdown",
      "source": [
        "<aside>\n",
        "💡 **Question 5**\n",
        "\n",
        "Given an array of integers **arr**, the task is to find maximum element of that array using recursion.\n",
        "\n",
        "**Example 1:**\n",
        "\n",
        "Input: arr = {1, 4, 3, -5, -4, 8, 6};\n",
        "Output: 8\n",
        "\n",
        "**Example 2:**\n",
        "\n",
        "Input: arr = {1, 4, 45, 6, 10, -8};\n",
        "Output: 45\n",
        "\n",
        "</aside>"
      ],
      "metadata": {
        "id": "vnvqe_1xZrBI"
      }
    },
    {
      "cell_type": "code",
      "source": [
        "def find_max_recursive(arr, start, end):\n",
        "    if start == end:\n",
        "        return arr[start]\n",
        "\n",
        "    mid = (start + end) // 2\n",
        "    left_max = find_max_recursive(arr, start, mid)\n",
        "    right_max = find_max_recursive(arr, mid + 1, end)\n",
        "\n",
        "    return max(left_max, right_max)\n",
        "\n",
        "def find_max(arr):\n",
        "    return find_max_recursive(arr, 0, len(arr) - 1)\n",
        "\n",
        "# Test Example 1\n",
        "arr1 = [1, 4, 3, -5, -4, 8, 6]\n",
        "print(find_max(arr1))  # Output: 8\n",
        "\n",
        "# Test Example 2\n",
        "arr2 = [1, 4, 45, 6, 10, -8]\n",
        "print(find_max(arr2))  # Output: 45\n",
        "\n"
      ],
      "metadata": {
        "colab": {
          "base_uri": "https://localhost:8080/"
        },
        "id": "L2DeB_zOZ3nj",
        "outputId": "ee9ec38d-ac89-4474-acae-9b8206370e05"
      },
      "execution_count": 5,
      "outputs": [
        {
          "output_type": "stream",
          "name": "stdout",
          "text": [
            "8\n",
            "45\n"
          ]
        }
      ]
    },
    {
      "cell_type": "markdown",
      "source": [
        "<aside>\n",
        "💡 **Question 6**\n",
        "\n",
        "Given first term (a), common difference (d) and a integer N of the Arithmetic Progression series, the task is to find Nth term of the series.\n",
        "\n",
        "**Example 1:**\n",
        "\n",
        "Input : a = 2 d = 1 N = 5\n",
        "Output : 6\n",
        "The 5th term of the series is : 6\n",
        "\n",
        "**Example 2:**\n",
        "\n",
        "Input : a = 5 d = 2 N = 10\n",
        "Output : 23\n",
        "The 10th term of the series is : 23\n",
        "\n",
        "</aside>"
      ],
      "metadata": {
        "id": "q8eGnyAqZ89M"
      }
    },
    {
      "cell_type": "code",
      "source": [
        "def find_nth_term_of_ap(a, d, N):\n",
        "    return a + (N - 1) * d\n",
        "\n",
        "# Test Example 1\n",
        "a1, d1, N1 = 2, 1, 5\n",
        "print(find_nth_term_of_ap(a1, d1, N1))  # Output: 6\n",
        "\n",
        "# Test Example 2\n",
        "a2, d2, N2 = 5, 2, 10\n",
        "print(find_nth_term_of_ap(a2, d2, N2))  # Output: 23\n"
      ],
      "metadata": {
        "colab": {
          "base_uri": "https://localhost:8080/"
        },
        "id": "I0tPlhm_Z-Nz",
        "outputId": "68046f79-ddd9-4eca-f0ea-4997aa207ccd"
      },
      "execution_count": 6,
      "outputs": [
        {
          "output_type": "stream",
          "name": "stdout",
          "text": [
            "6\n",
            "23\n"
          ]
        }
      ]
    },
    {
      "cell_type": "markdown",
      "source": [
        "<aside>\n",
        "💡 **Question 7**\n",
        "\n",
        "Given a string S, the task is to write a program to print all permutations of a given string.\n",
        "\n",
        "**Example 1:**\n",
        "\n",
        "***Input:***\n",
        "\n",
        "*S = “ABC”*\n",
        "\n",
        "***Output:***\n",
        "\n",
        "*“ABC”, “ACB”, “BAC”, “BCA”, “CBA”, “CAB”*\n",
        "\n",
        "**Example 2:**\n",
        "\n",
        "***Input:***\n",
        "\n",
        "*S = “XY”*\n",
        "\n",
        "***Output:***\n",
        "\n",
        "*“XY”, “YX”*\n",
        "\n",
        "</aside>"
      ],
      "metadata": {
        "id": "xLQMpZqMaLn_"
      }
    },
    {
      "cell_type": "markdown",
      "source": [],
      "metadata": {
        "id": "11BovURRaLhn"
      }
    },
    {
      "cell_type": "code",
      "source": [
        "def permute(S):\n",
        "    def permute_helper(prefix, remaining, result):\n",
        "        if not remaining:\n",
        "            result.append(prefix)\n",
        "            return\n",
        "\n",
        "        for i in range(len(remaining)):\n",
        "            permute_helper(\n",
        "                prefix + remaining[i],\n",
        "                remaining[:i] + remaining[i+1:],\n",
        "                result\n",
        "            )\n",
        "\n",
        "    permutations = []\n",
        "    permute_helper(\"\", S, permutations)\n",
        "    return permutations\n",
        "\n",
        "# Test Example 1\n",
        "S1 = \"ABC\"\n",
        "print(permute(S1))  # Output: ['ABC', 'ACB', 'BAC', 'BCA', 'CAB', 'CBA']\n",
        "\n",
        "# Test Example 2\n",
        "S2 = \"XY\"\n",
        "print(permute(S2))  # Output: ['XY', 'YX']\n"
      ],
      "metadata": {
        "colab": {
          "base_uri": "https://localhost:8080/"
        },
        "id": "65uRDNw_Z4ed",
        "outputId": "95787a73-d0ff-4775-90ee-f7b0bb1ed3ee"
      },
      "execution_count": 7,
      "outputs": [
        {
          "output_type": "stream",
          "name": "stdout",
          "text": [
            "['ABC', 'ACB', 'BAC', 'BCA', 'CAB', 'CBA']\n",
            "['XY', 'YX']\n"
          ]
        }
      ]
    },
    {
      "cell_type": "code",
      "source": [],
      "metadata": {
        "id": "XT5eVpLmaPzz"
      },
      "execution_count": null,
      "outputs": []
    },
    {
      "cell_type": "markdown",
      "source": [
        "<aside>\n",
        "💡 **Question 8**\n",
        "\n",
        "Given an array, find a product of all array elements.\n",
        "\n",
        "**Example 1:**\n",
        "\n",
        "Input  : arr[] = {1, 2, 3, 4, 5}\n",
        "Output : 120\n",
        "**Example 2:**\n",
        "\n",
        "Input  : arr[] = {1, 6, 3}\n",
        "Output : 18\n",
        "\n",
        "</aside>"
      ],
      "metadata": {
        "id": "LAz6eoqTaSU5"
      }
    },
    {
      "cell_type": "code",
      "source": [
        "def product_of_array_elements(arr):\n",
        "    product = 1\n",
        "\n",
        "    for num in arr:\n",
        "        product *= num\n",
        "\n",
        "    return product\n",
        "\n",
        "# Test Example 1\n",
        "arr1 = [1, 2, 3, 4, 5]\n",
        "print(product_of_array_elements(arr1))  # Output: 120\n",
        "\n",
        "# Test Example 2\n",
        "arr2 = [1, 6, 3]\n",
        "print(product_of_array_elements(arr2))  # Output: 18\n"
      ],
      "metadata": {
        "colab": {
          "base_uri": "https://localhost:8080/"
        },
        "id": "GYqN09KCaWG_",
        "outputId": "cd4b8051-359d-4d0d-8479-1fb72592596d"
      },
      "execution_count": 8,
      "outputs": [
        {
          "output_type": "stream",
          "name": "stdout",
          "text": [
            "120\n",
            "18\n"
          ]
        }
      ]
    },
    {
      "cell_type": "code",
      "source": [],
      "metadata": {
        "id": "kjwa4utWabxe"
      },
      "execution_count": null,
      "outputs": []
    }
  ]
}