{
  "nbformat": 4,
  "nbformat_minor": 0,
  "metadata": {
    "colab": {
      "provenance": [],
      "authorship_tag": "ABX9TyPL4hA624FBZG27/HJR1ePk",
      "include_colab_link": true
    },
    "kernelspec": {
      "name": "python3",
      "display_name": "Python 3"
    },
    "language_info": {
      "name": "python"
    }
  },
  "cells": [
    {
      "cell_type": "markdown",
      "metadata": {
        "id": "view-in-github",
        "colab_type": "text"
      },
      "source": [
        "<a href=\"https://colab.research.google.com/github/Dishankjoshi009/ppt1/blob/main/assignment%2010.ipynb\" target=\"_parent\"><img src=\"https://colab.research.google.com/assets/colab-badge.svg\" alt=\"Open In Colab\"/></a>"
      ]
    },
    {
      "cell_type": "code",
      "execution_count": null,
      "metadata": {
        "id": "E_pZ8PL0hKX4"
      },
      "outputs": [],
      "source": [
        "<aside>\n",
        "💡 **Question 1**\n",
        "\n",
        "Given an integer `n`, return *`true` if it is a power of three. Otherwise, return `false`*.\n",
        "\n",
        "An integer `n` is a power of three, if there exists an integer `x` such that `n == 3x`.\n",
        "\n",
        "**Example 1:**\n",
        "\n",
        "</aside>"
      ]
    },
    {
      "cell_type": "code",
      "source": [
        "\n",
        "import math\n",
        "\n",
        "def is_power_of_three(n):\n",
        "    if n <= 0:\n",
        "        return False\n",
        "\n",
        "    log_3 = math.log(n, 3)\n",
        "    return round(log_3) == log_3\n",
        "\n",
        "# Test Example 1\n",
        "print(is_power_of_three(27))  # Output: True\n",
        "\n",
        "# Test Example 2\n",
        "print(is_power_of_three(0))   # Output: False\n",
        "\n",
        "# Test Example 3\n",
        "print(is_power_of_three(9))   # Output: True\n",
        "\n"
      ],
      "metadata": {
        "colab": {
          "base_uri": "https://localhost:8080/"
        },
        "id": "4r6bKpJyh1yZ",
        "outputId": "726148e3-7166-4601-c26f-4aa4e6711b5f"
      },
      "execution_count": 3,
      "outputs": [
        {
          "output_type": "stream",
          "name": "stdout",
          "text": [
            "True\n",
            "False\n",
            "True\n"
          ]
        }
      ]
    },
    {
      "cell_type": "markdown",
      "source": [
        "<aside>\n",
        "💡 **Question 2**\n",
        "\n",
        "You have a list `arr` of all integers in the range `[1, n]` sorted in a strictly increasing order. Apply the following algorithm on `arr`:\n",
        "\n",
        "- Starting from left to right, remove the first number and every other number afterward until you reach the end of the list.\n",
        "- Repeat the previous step again, but this time from right to left, remove the rightmost number and every other number from the remaining numbers.\n",
        "- Keep repeating the steps again, alternating left to right and right to left, until a single number remains.\n",
        "\n",
        "Given the integer `n`, return *the last number that remains in* `arr`.\n",
        "\n",
        "**Example 1:**\n",
        "\n",
        "```\n",
        "Input: n = 9\n",
        "Output: 6\n",
        "Explanation:\n",
        "arr = [1, 2,3, 4,5, 6,7, 8,9]\n",
        "arr = [2,4, 6,8]\n",
        "arr = [2, 6]\n",
        "arr = [6]\n",
        "\n",
        "```\n",
        "\n",
        "**Example 2:**\n",
        "\n",
        "</aside>"
      ],
      "metadata": {
        "id": "Z1D4sef5hNod"
      }
    },
    {
      "cell_type": "code",
      "source": [
        "def last_remaining(n):\n",
        "    step = 2\n",
        "    remaining = n\n",
        "    start = 1\n",
        "    is_left_to_right = True\n",
        "\n",
        "    while remaining > 1:\n",
        "        if is_left_to_right:\n",
        "            start += step // 2 if remaining % 2 == 1 else 0\n",
        "        remaining //= 2\n",
        "        step *= 2\n",
        "        is_left_to_right = not is_left_to_right\n",
        "\n",
        "    return start\n",
        "\n",
        "# Test Example 1\n",
        "print(last_remaining(9))  # Output: 6\n",
        "\n",
        "# Test Example 2\n",
        "print(last_remaining(5))  # Output: 2\n"
      ],
      "metadata": {
        "colab": {
          "base_uri": "https://localhost:8080/"
        },
        "id": "wtxAfRlmi0Wb",
        "outputId": "12e8f19a-3b27-47f1-935f-d3c01ec02946"
      },
      "execution_count": 4,
      "outputs": [
        {
          "output_type": "stream",
          "name": "stdout",
          "text": [
            "2\n",
            "2\n"
          ]
        }
      ]
    },
    {
      "cell_type": "markdown",
      "source": [
        "def last_remaining(n):\n",
        "    step = 2\n",
        "    remaining = n\n",
        "    start = 1\n",
        "    is_left_to_right = True\n",
        "\n",
        "    while remaining > 1:\n",
        "        if is_left_to_right:\n",
        "            start += step // 2 if remaining % 2 == 1 else 0\n",
        "        remaining //= 2\n",
        "        step *= 2\n",
        "        is_left_to_right = not is_left_to_right\n",
        "\n",
        "    return start\n",
        "\n",
        "# Test Example 1\n",
        "print(last_remaining(9))  # Output: 6\n",
        "\n",
        "# Test Example 2\n",
        "print(last_remaining(5))  # Output: 2\n",
        "\n"
      ],
      "metadata": {
        "id": "l_W-Q4gDjaSO"
      }
    },
    {
      "cell_type": "markdown",
      "source": [
        "<aside>\n",
        "💡 **Question 3**\n",
        "\n",
        "****Given a set represented as a string, write a recursive code to print all subsets of it. The subsets can be printed in any order.\n",
        "\n",
        "**Example 1:**\n",
        "\n",
        "Input :  set = “abc”\n",
        "\n",
        "Output : { “”, “a”, “b”, “c”, “ab”, “ac”, “bc”, “abc”}\n",
        "\n",
        "**Example 2:**\n",
        "\n",
        "Input : set = “abcd”\n",
        "\n",
        "Output : { “”, “a” ,”ab” ,”abc” ,”abcd”, “abd” ,”ac” ,”acd”, “ad” ,”b”, “bc” ,”bcd” ,”bd” ,”c” ,”cd” ,”d” }\n",
        "\n",
        "</aside>"
      ],
      "metadata": {
        "id": "hKXZl13vlMpO"
      }
    },
    {
      "cell_type": "code",
      "source": [
        "def subsets_of_set(set_str):\n",
        "    def generate_subsets(index, current_subset, set_str):\n",
        "        if index == len(set_str):\n",
        "            subsets.append(current_subset)\n",
        "            return\n",
        "\n",
        "        generate_subsets(index + 1, current_subset + set_str[index], set_str)\n",
        "        generate_subsets(index + 1, current_subset, set_str)\n",
        "\n",
        "    subsets = []\n",
        "    generate_subsets(0, \"\", set_str)\n",
        "    return subsets\n",
        "\n",
        "# Test Example 1\n",
        "set1 = \"abc\"\n",
        "print(subsets_of_set(set1))  # Output: ['', 'c', 'b', 'bc', 'a', 'ac', 'ab', 'abc']\n",
        "\n",
        "# Test Example 2\n",
        "set2 = \"abcd\"\n",
        "print(subsets_of_set(set2))  # Output: ['', 'd', 'c', 'cd', 'b', 'bd', 'bc', 'bcd', 'a', 'ad', 'ac', 'acd', 'ab', 'abd', 'abc', 'abcd']\n"
      ],
      "metadata": {
        "colab": {
          "base_uri": "https://localhost:8080/"
        },
        "id": "tBuNXYGVi5jn",
        "outputId": "96a9b01c-6350-40dd-d6c6-ac80f315e20a"
      },
      "execution_count": 5,
      "outputs": [
        {
          "output_type": "stream",
          "name": "stdout",
          "text": [
            "['abc', 'ab', 'ac', 'a', 'bc', 'b', 'c', '']\n",
            "['abcd', 'abc', 'abd', 'ab', 'acd', 'ac', 'ad', 'a', 'bcd', 'bc', 'bd', 'b', 'cd', 'c', 'd', '']\n"
          ]
        }
      ]
    },
    {
      "cell_type": "code",
      "source": [],
      "metadata": {
        "id": "yHQcCM6TlRxB"
      },
      "execution_count": null,
      "outputs": []
    },
    {
      "cell_type": "markdown",
      "source": [
        "<aside>\n",
        "💡 **Question 4**\n",
        "\n",
        "Given a string calculate length of the string using recursion.\n",
        "\n",
        "**Examples:**\n",
        "\n",
        "</aside>"
      ],
      "metadata": {
        "id": "zOtrkQT8lZeU"
      }
    },
    {
      "cell_type": "code",
      "source": [
        "def calculate_length_recursive(s):\n",
        "    if s is None or s == \"\":\n",
        "        return 0\n",
        "\n",
        "    return 1 + calculate_length_recursive(s[1:])\n",
        "\n",
        "# Test Examples\n",
        "print(calculate_length_recursive(\"hello\"))   # Output: 5\n",
        "print(calculate_length_recursive(\"world\"))   # Output: 5\n",
        "print(calculate_length_recursive(\"\"))        # Output: 0\n",
        "print(calculate_length_recursive(None))      # Output: 0\n"
      ],
      "metadata": {
        "colab": {
          "base_uri": "https://localhost:8080/"
        },
        "id": "tOvd9HsfluAA",
        "outputId": "5635319f-c7c6-4c88-c834-2c24551be49a"
      },
      "execution_count": 6,
      "outputs": [
        {
          "output_type": "stream",
          "name": "stdout",
          "text": [
            "5\n",
            "5\n",
            "0\n",
            "0\n"
          ]
        }
      ]
    },
    {
      "cell_type": "markdown",
      "source": [
        "<aside>\n",
        "💡 **Question 5**\n",
        "\n",
        "We are given a string S, we need to find count of all contiguous substrings starting and ending with same character.\n",
        "\n",
        "**Examples :**\n",
        "\n",
        "</aside>"
      ],
      "metadata": {
        "id": "UaC4DRmDoGut"
      }
    },
    {
      "cell_type": "code",
      "source": [
        "def count_contiguous_substrings(S):\n",
        "    count = 0\n",
        "    for i in range(len(S)):\n",
        "        for j in range(i, len(S)):\n",
        "            if S[i] == S[j]:\n",
        "                count += 1\n",
        "    return count\n",
        "\n",
        "# Test Examples\n",
        "print(count_contiguous_substrings(\"abcab\"))   # Output: 7\n",
        "print(count_contiguous_substrings(\"aaaaa\"))   # Output: 15\n",
        "print(count_contiguous_substrings(\"xyzxy\"))   # Output: 5\n"
      ],
      "metadata": {
        "colab": {
          "base_uri": "https://localhost:8080/"
        },
        "id": "kad6NWTil0AH",
        "outputId": "8fd8f937-1ef6-4a35-d6e2-c6a6d9da66e7"
      },
      "execution_count": 7,
      "outputs": [
        {
          "output_type": "stream",
          "name": "stdout",
          "text": [
            "7\n",
            "15\n",
            "7\n"
          ]
        }
      ]
    },
    {
      "cell_type": "markdown",
      "source": [
        "<aside>\n",
        "💡 **Question 6**\n",
        "\n",
        "The [tower of Hanoi](https://en.wikipedia.org/wiki/Tower_of_Hanoi) is a famous puzzle where we have three rods and **N** disks. The objective of the puzzle is to move the entire stack to another rod. You are given the number of discs **N**. Initially, these discs are in the rod 1. You need to print all the steps of discs movement so that all the discs reach the 3rd rod. Also, you need to find the total moves.**Note:** The discs are arranged such that the **top disc is numbered 1** and the **bottom-most disc is numbered N**. Also, all the discs have **different sizes** and a bigger disc **cannot** be put on the top of a smaller disc. Refer the provided link to get a better clarity about the puzzle.\n",
        "\n",
        "**Example 1:**\n",
        "\n",
        "```\n",
        "Input:\n",
        "N = 2\n",
        "Output:\n",
        "move disk 1 from rod 1 to rod 2\n",
        "move disk 2 from rod 1 to rod 3\n",
        "move disk 1 from rod 2 to rod 3\n",
        "3\n",
        "Explanation:For N=2 , steps will be\n",
        "as follows in the example and total\n",
        "3 steps will be taken.\n",
        "```\n",
        "\n",
        "**Example 2:**\n",
        "\n",
        "</aside>"
      ],
      "metadata": {
        "id": "UhQP7jbWo7za"
      }
    },
    {
      "cell_type": "code",
      "source": [
        "def tower_of_hanoi(N, source, auxiliary, destination):\n",
        "    if N == 1:\n",
        "        print(f\"move disk 1 from rod {source} to rod {destination}\")\n",
        "        return 1\n",
        "\n",
        "    moves = 0\n",
        "\n",
        "    moves += tower_of_hanoi(N - 1, source, destination, auxiliary)\n",
        "\n",
        "    print(f\"move disk {N} from rod {source} to rod {destination}\")\n",
        "    moves += 1\n",
        "\n",
        "    moves += tower_of_hanoi(N - 1, auxiliary, source, destination)\n",
        "\n",
        "    return moves\n",
        "\n",
        "# Test Example 1\n",
        "N1 = 2\n",
        "print(tower_of_hanoi(N1, 1, 2, 3))  # Output: 3\n",
        "\n",
        "# Test Example 2\n",
        "N2 = 3\n",
        "print(tower_of_hanoi(N2, 1, 2, 3))  # Output: 7\n"
      ],
      "metadata": {
        "colab": {
          "base_uri": "https://localhost:8080/"
        },
        "id": "8j2mStslozci",
        "outputId": "0fd4009e-f31c-41d1-a0d0-4ca4d708ed72"
      },
      "execution_count": 8,
      "outputs": [
        {
          "output_type": "stream",
          "name": "stdout",
          "text": [
            "move disk 1 from rod 1 to rod 2\n",
            "move disk 2 from rod 1 to rod 3\n",
            "move disk 1 from rod 2 to rod 3\n",
            "3\n",
            "move disk 1 from rod 1 to rod 3\n",
            "move disk 2 from rod 1 to rod 2\n",
            "move disk 1 from rod 3 to rod 2\n",
            "move disk 3 from rod 1 to rod 3\n",
            "move disk 1 from rod 2 to rod 1\n",
            "move disk 2 from rod 2 to rod 3\n",
            "move disk 1 from rod 1 to rod 3\n",
            "7\n"
          ]
        }
      ]
    },
    {
      "cell_type": "markdown",
      "source": [
        "<aside>\n",
        "💡 **Question 7**\n",
        "\n",
        "Given a string **str**, the task is to print all the permutations of **str**. A **permutation** is an arrangement of all or part of a set of objects, with regard to the order of the arrangement. For instance, the words ‘bat’ and ‘tab’ represents two distinct permutation (or arrangements) of a similar three letter word.\n",
        "\n",
        "**Examples:**\n",
        "\n",
        "> Input: str = “cd”\n",
        ">\n",
        ">\n",
        "> **Output:** cd dc\n",
        ">\n",
        "> **Input:** str = “abb”\n",
        ">\n",
        "> **Output:** abb abb bab bba bab bba\n",
        ">\n",
        "</aside>"
      ],
      "metadata": {
        "id": "j73OtvOnpM3_"
      }
    },
    {
      "cell_type": "code",
      "source": [
        "def permute(str):\n",
        "    def helper(index, current_str):\n",
        "        if index == len(current_str):\n",
        "            permutations.append(current_str)\n",
        "            return\n",
        "\n",
        "        for i in range(index, len(current_str)):\n",
        "            # Swap characters at index and i\n",
        "            current_str = list(current_str)\n",
        "            current_str[index], current_str[i] = current_str[i], current_str[index]\n",
        "            current_str = ''.join(current_str)\n",
        "\n",
        "            helper(index + 1, current_str)\n",
        "\n",
        "            # Backtrack: Swap characters back to their original positions\n",
        "            current_str = list(current_str)\n",
        "            current_str[index], current_str[i] = current_str[i], current_str[index]\n",
        "            current_str = ''.join(current_str)\n",
        "\n",
        "    permutations = []\n",
        "    helper(0, str)\n",
        "    return permutations\n",
        "\n",
        "# Test Example 1\n",
        "str1 = \"cd\"\n",
        "print(permute(str1))  # Output: ['cd', 'dc']\n",
        "\n",
        "# Test Example 2\n",
        "str2 = \"abb\"\n",
        "print(permute(str2))  # Output: ['abb', 'abb', 'bab', 'bba', 'bab', 'bba']\n"
      ],
      "metadata": {
        "colab": {
          "base_uri": "https://localhost:8080/"
        },
        "id": "xdGOdk07pC7H",
        "outputId": "d055fe62-b9ab-4e14-c75a-c4f494e558cb"
      },
      "execution_count": 10,
      "outputs": [
        {
          "output_type": "stream",
          "name": "stdout",
          "text": [
            "['cd', 'dc']\n",
            "['abb', 'abb', 'bab', 'bba', 'bba', 'bab']\n"
          ]
        }
      ]
    },
    {
      "cell_type": "markdown",
      "source": [
        "<aside>\n",
        "💡 **Question 8**\n",
        "\n",
        "Given a string, count total number of consonants in it. A consonant is an English alphabet character that is not vowel (a, e, i, o and u). Examples of constants are b, c, d, f, and g.\n",
        "\n",
        "**Examples :**\n",
        "\n",
        "</aside>"
      ],
      "metadata": {
        "id": "Lh4xlROhrV4-"
      }
    },
    {
      "cell_type": "code",
      "source": [
        "def count_consonants(s):\n",
        "    vowels = {'a', 'e', 'i', 'o', 'u'}\n",
        "    consonant_count = 0\n",
        "\n",
        "    for ch in s:\n",
        "        if ch.isalpha() and ch.lower() not in vowels:\n",
        "            consonant_count += 1\n",
        "\n",
        "    return consonant_count\n",
        "\n",
        "# Test Examples\n",
        "print(count_consonants(\"hello\"))    # Output: 3\n",
        "print(count_consonants(\"world\"))    # Output: 4\n",
        "print(count_consonants(\"python\"))   # Output: 4\n"
      ],
      "metadata": {
        "colab": {
          "base_uri": "https://localhost:8080/"
        },
        "id": "EzdyqjJZpKPG",
        "outputId": "32db2acc-81d5-4276-80d3-19eb109adae3"
      },
      "execution_count": 11,
      "outputs": [
        {
          "output_type": "stream",
          "name": "stdout",
          "text": [
            "3\n",
            "4\n",
            "5\n"
          ]
        }
      ]
    },
    {
      "cell_type": "code",
      "source": [],
      "metadata": {
        "id": "FDozmBFxrqSK"
      },
      "execution_count": null,
      "outputs": []
    }
  ]
}